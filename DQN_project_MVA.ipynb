{
 "cells": [
  {
   "cell_type": "markdown",
   "metadata": {},
   "source": [
    "**You may need to install [OpenCV](https://pypi.python.org/pypi/opencv-python) and [scikit-video](http://www.scikit-video.org/stable/).**"
   ]
  },
  {
   "cell_type": "code",
   "execution_count": 61,
   "metadata": {},
   "outputs": [],
   "source": [
    "import keras\n",
    "import numpy as np\n",
    "import io\n",
    "import base64\n",
    "from IPython.display import HTML\n",
    "import skvideo.io\n",
    "import cv2\n",
    "import json\n",
    "\n",
    "from keras.models import Sequential,model_from_json\n",
    "from keras.layers.core import Dense, Flatten\n",
    "from keras.optimizers import sgd, adam\n",
    "from keras.layers import Conv2D, MaxPooling2D, Activation, AveragePooling2D,Reshape,BatchNormalization, Dropout"
   ]
  },
  {
   "cell_type": "markdown",
   "metadata": {},
   "source": [
    "# MiniProject #3: Deep Reinforcement Learning"
   ]
  },
  {
   "cell_type": "markdown",
   "metadata": {},
   "source": [
    "__Notations__: $E_p$ is the expectation under probability $p$. Please justify each of your answer and widely comment your code."
   ]
  },
  {
   "cell_type": "markdown",
   "metadata": {},
   "source": [
    "# Context"
   ]
  },
  {
   "cell_type": "markdown",
   "metadata": {},
   "source": [
    "In a reinforcement learning algorithm, we modelize each step $t$ as an action $a_t$ obtained from a state $s_t$, i.e. $\\{(a_{t},s_{t})_{t\\leq T}\\}$ having the Markov property. We consider a discount factor $\\gamma \\in [0,1]$ that ensures convergence. The goal is to find among all the policies $\\pi$, one that maximizes the expected reward:\n",
    "\n",
    "\\begin{equation*}\n",
    "R(\\pi)=\\sum_{t\\leq T}E_{p^{\\pi}}[\\gamma^t r(s_{t},a_{t})] \\> ,\n",
    "\\end{equation*}\n",
    "\n",
    "where: \n",
    "\\begin{equation*}p^{\\pi}(a_{0},a_{1},s_{1},...,a_{T},s_{T})=p(a_{0})\\prod_{t=1}^{T}\\pi(a_{t}|s_{t})p(s_{t+1}|s_{t},a_{t}) \\> .\n",
    "\\end{equation*}\n",
    "\n",
    "We note the $Q$-function:\n",
    "\n",
    "\\begin{equation*}Q^\\pi(s,a)=E_{p^{\\pi}}[\\sum_{t\\leq T}\\gamma^{t}r(s_{t},a_{t})|s_{0}=s,a_{0}=a] \\> .\n",
    "\\end{equation*}\n",
    "\n",
    "Thus, the optimal Q function is:\n",
    "\\begin{equation*}\n",
    "Q^*(s,a)=\\max_{\\pi}Q^\\pi(s,a) \\> .\n",
    "\\end{equation*}\n",
    "\n",
    "In this project, we will apply the deep reinforcement learning techniques to a simple game: an agent will have to learn from scratch a policy that will permit it maximizing a reward."
   ]
  },
  {
   "cell_type": "markdown",
   "metadata": {},
   "source": [
    "## The environment, the agent and the game"
   ]
  },
  {
   "cell_type": "markdown",
   "metadata": {},
   "source": [
    "### The environment"
   ]
  },
  {
   "cell_type": "markdown",
   "metadata": {},
   "source": [
    "```Environment``` is an abstract class that represents the states, rewards, and actions to obtain the new state."
   ]
  },
  {
   "cell_type": "code",
   "execution_count": 62,
   "metadata": {},
   "outputs": [],
   "source": [
    "class Environment(object):\n",
    "    def __init__(self):\n",
    "        pass\n",
    "\n",
    "    def act(self, act):\n",
    "        \"\"\"\n",
    "        One can act on the environment and obtain its reaction:\n",
    "        - the new state\n",
    "        - the reward of the new state\n",
    "        - should we continue the game?\n",
    "\n",
    "        :return: state, reward, game_over\n",
    "        \"\"\"\n",
    "        pass\n",
    "\n",
    "\n",
    "    def reset(self):\n",
    "        \"\"\"\n",
    "        Reinitialize the environment to a random state and returns\n",
    "        the original state\n",
    "\n",
    "        :return: state\n",
    "        \"\"\"\n",
    "        pass\n",
    "    \n",
    "    def draw(self):\n",
    "        \"\"\"\n",
    "        Visualize in the console or graphically the current state\n",
    "        \"\"\"\n",
    "        pass"
   ]
  },
  {
   "cell_type": "markdown",
   "metadata": {},
   "source": [
    "The method ```act``` allows to act on the environment at a given state $s_t$ (stored internally), via action $a_t$. The method will return the new state $s_{t+1}$, the reward $r(s_{t},a_{t})$ and determines if $t\\leq T$ (*game_over*).\n",
    "\n",
    "The method ```reset``` simply reinitializes the environment to a random state $s_0$.\n",
    "\n",
    "The method ```draw``` displays the current state $s_t$ (this is useful to check the behavior of the Agent).\n",
    "\n",
    "We modelize $s_t$ as a tensor, while $a_t$ is an integer."
   ]
  },
  {
   "cell_type": "markdown",
   "metadata": {},
   "source": [
    "### The Agent"
   ]
  },
  {
   "cell_type": "markdown",
   "metadata": {},
   "source": [
    "The goal of the ```Agent``` is to interact with the ```Environment``` by proposing actions $a_t$ obtained from a given state $s_t$ to attempt to maximize its __reward__ $r(s_t,a_t)$. We propose the following abstract class:"
   ]
  },
  {
   "cell_type": "code",
   "execution_count": 63,
   "metadata": {},
   "outputs": [],
   "source": [
    "class Agent(object):\n",
    "    def __init__(self, epsilon=0.1, n_action=4):\n",
    "        self.epsilon = epsilon\n",
    "        self.n_action = n_action\n",
    "    \n",
    "    def set_epsilon(self,e):\n",
    "        self.epsilon = e\n",
    "\n",
    "    def act(self,s,train=True):\n",
    "        \"\"\" This function should return the next action to do:\n",
    "        an integer between 0 and 4 (not included) with a random exploration of epsilon\"\"\"\n",
    "        if train:\n",
    "            if np.random.rand() <= self.epsilon:\n",
    "                a = np.random.randint(0, self.n_action, size=1)[0]\n",
    "            else:\n",
    "                a = self.learned_act(s)\n",
    "        else: # in some cases, this can improve the performance.. remove it if poor performances\n",
    "            a = self.learned_act(s)\n",
    "\n",
    "        return a\n",
    "\n",
    "    def learned_act(self,s):\n",
    "        \"\"\" Act via the policy of the agent, from a given state s\n",
    "        it proposes an action a\"\"\"\n",
    "        pass\n",
    "\n",
    "    def reinforce(self, s, n_s, a, r, game_over_):\n",
    "        \"\"\" This function is the core of the learning algorithm. \n",
    "        It takes as an input the current state s_, the next state n_s_\n",
    "        the action a_ used to move from s_ to n_s_ and the reward r_.\n",
    "        \n",
    "        Its goal is to learn a policy.\n",
    "        \"\"\"\n",
    "        pass\n",
    "\n",
    "    def save(self):\n",
    "        \"\"\" This function returns basic stats if applicable: the\n",
    "        loss and/or the model\"\"\"\n",
    "        pass\n",
    "\n",
    "    def load(self):\n",
    "        \"\"\" This function allows to restore a model\"\"\"\n",
    "        pass"
   ]
  },
  {
   "cell_type": "markdown",
   "metadata": {},
   "source": [
    "***\n",
    "__Question 1__:\n",
    "Explain the function act. Why is ```epsilon``` essential?"
   ]
  },
  {
   "cell_type": "markdown",
   "metadata": {},
   "source": [
    "The function ```act``` uses the learned policy, except that with probability ```epsilon```, it chooses a random action. Setting a non zero ```epsilon``` allows the agent to explore new policies."
   ]
  },
  {
   "cell_type": "markdown",
   "metadata": {},
   "source": [
    "***\n",
    "### The Game"
   ]
  },
  {
   "cell_type": "markdown",
   "metadata": {},
   "source": [
    "The ```Agent``` and the ```Environment``` work in an interlaced way as in the following (take some time to understand this code as it is the core of the project)\n",
    "\n",
    "```python\n",
    "\n",
    "epoch = 300\n",
    "env = Environment()\n",
    "agent = Agent()\n",
    "\n",
    "\n",
    "# Number of won games\n",
    "score = 0\n",
    "loss = 0\n",
    "\n",
    "\n",
    "for e in range(epoch):\n",
    "    # At each epoch, we restart to a fresh game and get the initial state\n",
    "    state = env.reset()\n",
    "    # This assumes that the games will end\n",
    "    game_over = False\n",
    "\n",
    "    win = 0\n",
    "    lose = 0\n",
    "    \n",
    "    while not game_over:\n",
    "        # The agent performs an action\n",
    "        action = agent.act(state)\n",
    "\n",
    "        # Apply an action to the environment, get the next state, the reward\n",
    "        # and if the games end\n",
    "        prev_state = state\n",
    "        state, reward, game_over = env.act(action)\n",
    "\n",
    "        # Update the counters\n",
    "        if reward > 0:\n",
    "            win = win + reward\n",
    "        if reward < 0:\n",
    "            lose = lose -reward\n",
    "\n",
    "        # Apply the reinforcement strategy\n",
    "        loss = agent.reinforce(prev_state, state,  action, reward, game_over)\n",
    "\n",
    "    # Save as a mp4\n",
    "    if e % 10 == 0:\n",
    "        env.draw(e)\n",
    "\n",
    "    # Update stats\n",
    "    score += win-lose\n",
    "\n",
    "    print(\"Epoch {:03d}/{:03d} | Loss {:.4f} | Win/lose count {}/{} ({})\"\n",
    "          .format(e, epoch, loss, win, lose, win-lose))\n",
    "    agent.save()\n",
    "```"
   ]
  },
  {
   "cell_type": "markdown",
   "metadata": {},
   "source": [
    "# The game, *eat cheese*"
   ]
  },
  {
   "cell_type": "markdown",
   "metadata": {},
   "source": [
    "A rat runs on an island and tries to eat as much as possible. The island is subdivided into $N\\times N$ cells, in which there are cheese (+0.5) and poisonous cells (-1). The rat has a visibility of 2 cells (thus it can see $5^2$ cells). The rat is given a time $T$ to accumulate as much food as possible. It can perform 4 actions: going up, down, left, right. \n",
    "\n",
    "The goal is to code an agent to solve this task that will learn by trial and error. We propose the following environment:"
   ]
  },
  {
   "cell_type": "code",
   "execution_count": 64,
   "metadata": {},
   "outputs": [],
   "source": [
    "class Environment(object):\n",
    "    def __init__(self, grid_size=10, max_time=500, temperature=0.1):\n",
    "        grid_size = grid_size+4\n",
    "        self.grid_size = grid_size\n",
    "        self.max_time = max_time\n",
    "        self.temperature = temperature\n",
    "\n",
    "        #board on which one plays\n",
    "        self.board = np.zeros((grid_size,grid_size))\n",
    "        self.position = np.zeros((grid_size,grid_size))\n",
    "\n",
    "        # coordinate of the cat (rat?)\n",
    "        self.x = 0\n",
    "        self.y = 1\n",
    "\n",
    "        # self time\n",
    "        self.t = 0\n",
    "\n",
    "        self.scale=16\n",
    "\n",
    "        self.to_draw = np.zeros((max_time+2, grid_size*self.scale, grid_size*self.scale, 3))\n",
    "\n",
    "\n",
    "    def draw(self,e):\n",
    "        skvideo.io.vwrite(str(e) + '.mp4', self.to_draw)\n",
    "\n",
    "    def get_frame(self,t):\n",
    "        b = np.zeros((self.grid_size,self.grid_size,3))+128\n",
    "        b[self.board>0,0] = 256\n",
    "        b[self.board < 0, 2] = 256\n",
    "        b[self.x,self.y,:]=256 # rat in black?\n",
    "        b[-2:,:,:]=0\n",
    "        b[:,-2:,:]=0\n",
    "        b[:2,:,:]=0\n",
    "        b[:,:2,:]=0\n",
    "        # forbidden borders in white?\n",
    "        b =  cv2.resize(b, None, fx=self.scale, fy=self.scale, interpolation=cv2.INTER_NEAREST)\n",
    "\n",
    "        self.to_draw[t,:,:,:]=b\n",
    "\n",
    "\n",
    "    def act(self, action):\n",
    "        \"\"\"This function returns the new state, reward and decides if the\n",
    "        game ends.\"\"\"\n",
    "\n",
    "        self.get_frame(int(self.t))\n",
    "\n",
    "        self.position = np.zeros((self.grid_size, self.grid_size))\n",
    "\n",
    "        self.position[0:2,:]= -1\n",
    "        self.position[:,0:2] = -1\n",
    "        self.position[-2:, :] = -1\n",
    "        self.position[-2:, :] = -1\n",
    "\n",
    "        self.position[self.x, self.y] = 1\n",
    "        if action == 0:\n",
    "            if self.x == self.grid_size-3:\n",
    "                self.x = self.x-1\n",
    "            else:\n",
    "                self.x = self.x + 1\n",
    "        elif action == 1:\n",
    "            if self.x == 2:\n",
    "                self.x = self.x+1\n",
    "            else:\n",
    "                self.x = self.x-1\n",
    "        elif action == 2:\n",
    "            if self.y == self.grid_size - 3:\n",
    "                self.y = self.y - 1\n",
    "            else:\n",
    "                self.y = self.y + 1\n",
    "        elif action == 3:\n",
    "            if self.y == 2:\n",
    "                self.y = self.y + 1\n",
    "            else:\n",
    "                self.y = self.y - 1\n",
    "        else:\n",
    "            RuntimeError('Error: action not recognized')\n",
    "\n",
    "        self.t = self.t + 1\n",
    "        reward = self.board[self.x, self.y]\n",
    "        self.board[self.x, self.y] = 0\n",
    "        game_over = self.t > self.max_time\n",
    "        state = np.concatenate((self.board.reshape(self.grid_size, self.grid_size,1),\n",
    "                        self.position.reshape(self.grid_size, self.grid_size,1)),axis=2)\n",
    "        state = state[self.x-2:self.x+3,self.y-2:self.y+3,:]\n",
    "\n",
    "        return state, reward, game_over\n",
    "\n",
    "    def reset(self):\n",
    "        \"\"\"This function resets the game and returns the initial state\"\"\"\n",
    "\n",
    "        self.x = np.random.randint(3, self.grid_size-3, size=1)[0]\n",
    "        self.y = np.random.randint(3, self.grid_size-3, size=1)[0]\n",
    "\n",
    "\n",
    "        bonus = 0.5*np.random.binomial(1,self.temperature,size=self.grid_size**2) # in fact bernoulli\n",
    "        bonus = bonus.reshape(self.grid_size,self.grid_size)\n",
    "\n",
    "        malus = -1.0*np.random.binomial(1,self.temperature,size=self.grid_size**2)\n",
    "        malus = malus.reshape(self.grid_size, self.grid_size)\n",
    "\n",
    "        self.to_draw = np.zeros((self.max_time+2, self.grid_size*self.scale, self.grid_size*self.scale, 3))\n",
    "\n",
    "\n",
    "        malus[bonus>0]=0\n",
    "\n",
    "        self.board = bonus + malus\n",
    "\n",
    "        self.position = np.zeros((self.grid_size, self.grid_size))\n",
    "        self.position[0:2,:]= -1\n",
    "        self.position[:,0:2] = -1\n",
    "        self.position[-2:, :] = -1\n",
    "        self.position[-2:, :] = -1\n",
    "        self.board[self.x,self.y] = 0\n",
    "        self.t = 0\n",
    "\n",
    "        state = np.concatenate((\n",
    "                               self.board.reshape(self.grid_size, self.grid_size,1),\n",
    "                        self.position.reshape(self.grid_size, self.grid_size,1)),axis=2)\n",
    "\n",
    "        state = state[self.x - 2:self.x + 3, self.y - 2:self.y + 3, :]\n",
    "        return state"
   ]
  },
  {
   "cell_type": "markdown",
   "metadata": {},
   "source": [
    "The following elements are important because they correspond to the hyper parameters for this project:"
   ]
  },
  {
   "cell_type": "code",
   "execution_count": 65,
   "metadata": {},
   "outputs": [],
   "source": [
    "# parameters\n",
    "size = 13\n",
    "T=200\n",
    "temperature=0.3\n",
    "epochs_train=10 # set small when debugging\n",
    "epochs_test=3 # set small when debugging\n",
    "\n",
    "# display videos\n",
    "def display_videos(name):\n",
    "    video = io.open(name, 'r+b').read()\n",
    "    encoded = base64.b64encode(video)\n",
    "    return '''<video alt=\"test\" controls>\n",
    "                <source src=\"data:video/mp4;base64,{0}\" type=\"video/mp4\" />\n",
    "             </video>'''.format(encoded.decode('ascii'))"
   ]
  },
  {
   "cell_type": "markdown",
   "metadata": {},
   "source": [
    "__Question 2__ Explain the use of the arrays ```position``` and ```board```."
   ]
  },
  {
   "cell_type": "markdown",
   "metadata": {},
   "source": [
    "The array ```position``` stores the information about the current state of the agent and the impossible positions at the borders. The array ```board``` stores the information about the presence of cheese or poison. Only part of the information in ```position``` and ```board``` will be released to the agent, only in the nearby cells."
   ]
  },
  {
   "cell_type": "markdown",
   "metadata": {},
   "source": [
    "## Random Agent"
   ]
  },
  {
   "cell_type": "markdown",
   "metadata": {},
   "source": [
    "***\n",
    "__Question 3__ Implement a random Agent (only ```learned_act``` needs to be implemented):"
   ]
  },
  {
   "cell_type": "code",
   "execution_count": 66,
   "metadata": {},
   "outputs": [],
   "source": [
    "class RandomAgent(Agent):\n",
    "    def __init__(self):\n",
    "        super(RandomAgent, self).__init__()\n",
    "        pass\n",
    "\n",
    "    def learned_act(self, s):\n",
    "        return np.random.choice(4)"
   ]
  },
  {
   "cell_type": "markdown",
   "metadata": {},
   "source": [
    "***\n",
    "***\n",
    "__Question 4__ Visualize the game moves. You need to fill in the following function for the evaluation:"
   ]
  },
  {
   "cell_type": "code",
   "execution_count": 67,
   "metadata": {},
   "outputs": [],
   "source": [
    "def test(agent,env,epochs,prefix=''):\n",
    "    # Number of won games\n",
    "    score = 0\n",
    "        \n",
    "    for e in range(epochs):\n",
    "        \n",
    "        # At each epoch, we restart to a fresh game and get the initial state\n",
    "        state = env.reset()\n",
    "        # This assumes that the games will end\n",
    "        game_over = False\n",
    "\n",
    "        win = 0\n",
    "        lose = 0\n",
    "\n",
    "        while not game_over:\n",
    "            # The agent performs an action\n",
    "            action = agent.act(state)\n",
    "\n",
    "            # Apply an action to the environment, get the next state, the reward\n",
    "            # and if the games end\n",
    "            prev_state = state\n",
    "            state, reward, game_over = env.act(action)\n",
    "\n",
    "            # Update the counters\n",
    "            if reward > 0:\n",
    "                win = win + reward\n",
    "            if reward < 0:\n",
    "                lose = lose -reward\n",
    "\n",
    "            # Apply the reinforcement strategy: here we do not do anything\n",
    "            #loss = agent.reinforce(prev_state, state,  action, reward, game_over)\n",
    "\n",
    "        \n",
    "        ##### FILL IN HERE !!!!\n",
    "        \n",
    "        # Save as a mp4\n",
    "        env.draw(prefix+str(e))\n",
    "\n",
    "        # Update stats\n",
    "        score = score + win-lose\n",
    "\n",
    "        print(\"Win/lose count {}/{}. Average score ({})\"\n",
    "              .format(win, lose, score/(1+e)))\n",
    "    print('Final score: '+str(score/epochs))"
   ]
  },
  {
   "cell_type": "code",
   "execution_count": 68,
   "metadata": {},
   "outputs": [
    {
     "name": "stdout",
     "output_type": "stream",
     "text": [
      "Win/lose count 12.0/18.0. Average score (-6.0)\n",
      "Win/lose count 14.0/13.0. Average score (-2.5)\n",
      "Win/lose count 7.0/12.0. Average score (-3.3333333333333335)\n",
      "Final score: -3.3333333333333335\n"
     ]
    },
    {
     "data": {
      "text/html": [
       "<video alt=\"test\" controls>\n",
       "                <source src=\"data:video/mp4;base64,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\" type=\"video/mp4\" />\n",
       "             </video>"
      ],
      "text/plain": [
       "<IPython.core.display.HTML object>"
      ]
     },
     "execution_count": 68,
     "metadata": {},
     "output_type": "execute_result"
    }
   ],
   "source": [
    "# Initialize the game\n",
    "env = Environment(grid_size=size, max_time=T,temperature=temperature)\n",
    "\n",
    "# Initialize the agent!\n",
    "agent = RandomAgent()\n",
    "\n",
    "test(agent,env,epochs_test,prefix='random')\n",
    "HTML(display_videos('random0.mp4'))"
   ]
  },
  {
   "cell_type": "markdown",
   "metadata": {},
   "source": [
    "***\n",
    "## DQN"
   ]
  },
  {
   "cell_type": "markdown",
   "metadata": {},
   "source": [
    "Let us assume here that $T=\\infty$.\n",
    "\n",
    "***\n",
    "__Question 5__ Let $\\pi$ be a policy, show that:\n",
    "\n",
    "\\begin{equation*}\n",
    "Q^{\\pi}(s,a)=E_{(s',a')\\sim p(.|s,a)}[r(s,a)+\\gamma Q^{\\pi}(s',a')]\n",
    "\\end{equation*}\n",
    "\n",
    "Then, show that for the optimal policy $\\pi^*$ (we assume its existence), the following holds: \n",
    "\n",
    "\\begin{equation*}\n",
    "Q^{*}(s,a)=E_{s'\\sim \\pi^*(.|s,a)}[r(s,a)+\\gamma\\max_{a'}Q^{*}(s',a')].\n",
    "\\end{equation*}\n",
    "Finally, deduce that a plausible objective is:\n",
    "\n",
    "\\begin{equation*}\n",
    "\\mathcal{L}(\\theta)=E_{s' \\sim \\pi^*(.|s,a)}\\Vert r+\\gamma\\max_{a'}Q(s',a',\\theta)-Q(s,a,\\theta)\\Vert^{2}.\n",
    "\\end{equation*}\n",
    "\n",
    "\n"
   ]
  },
  {
   "cell_type": "markdown",
   "metadata": {},
   "source": [
    "(1) The $Q$-function is defined as: $Q^\\pi(s,a)=E_{p^{\\pi}}[\\sum_{t=0}^\\infty\\gamma^{t}r(s_{t},a_{t})|s_{0}=s,a_{0}=a]$. We get Bellman's equation by isolating the first term of the sum: $Q^\\pi(s,a)=E_{p^{\\pi}}[r(s, a) + \\gamma \\sum_{t=1}^\\infty\\gamma^{t-1}r(s_{t},a_{t})|s_{0}=s,a_{0}=a]$. The state and action at time $t=1$ are drawn according to $p^\\pi(.|s, a)$ and we conclude by a change of variable in the sum that $Q^\\pi(s,a)= r(s, a) + \\gamma E_{(s^\\prime, a^\\prime)\\sim p^\\pi(.|s,a)}[Q^\\pi(s^\\prime, a^\\prime)]$.\n",
    "\n",
    "(2) The optimal $Q$-function is: $Q^*(s,a)=\\max_{\\pi}Q^\\pi(s,a)$. Using the previous result, we can maximize it with respect to $\\pi$. This is equivalent to maximizing the second term with respect to $a^\\prime$, as it is the only variable controled by $\\pi$, and we get: $Q^*(s,a)= r(s,a) + \\gamma E_{(s^\\prime, a^\\prime)\\sim p^{\\pi^*}(.|s,a)} [\\max_{a^\\prime}Q^*(s^\\prime,a^\\prime)]$.\n",
    "\n",
    "(3) We want to find the optimal $Q$-function. To achieve this, we must move the $Q$-function towards satisfying the optimal Bellman equation. Hence we minimize the distance between the two terms and hope that we will find the fixed point $Q^*$ that way."
   ]
  },
  {
   "cell_type": "markdown",
   "metadata": {},
   "source": [
    "***\n",
    "The DQN-learning algorithm relies on these derivations to train the parameters $\\theta$ of a Deep Neural Network:\n",
    "\n",
    "1. At the state $s_t$, select the action $a_t$ with best reward using $Q_t$ and store the results;\n",
    "\n",
    "2. Obtain the new state $s_{t+1}$ from the environment $p$;\n",
    "\n",
    "3. Store $(s_t,a_t,s_{t+1})$;\n",
    "\n",
    "4. Obtain $Q_{t+1}$ by minimizing  $\\mathcal{L}$ from a recovered batch from the previously stored results.\n",
    "\n",
    "***\n",
    "__Question 6__ Implement the class ```Memory``` that stores moves (in a replay buffer) via ```remember``` and provides a ```random_access``` to these. Specify a maximum memory size to avoid side effects. You can for example use a ```list()``` and set by default ```max_memory=100```."
   ]
  },
  {
   "cell_type": "code",
   "execution_count": 69,
   "metadata": {},
   "outputs": [],
   "source": [
    "import random\n",
    "\n",
    "class Memory(object):\n",
    "    def __init__(self, max_memory=100):\n",
    "        self.max_memory = max_memory\n",
    "        self.memory = list()\n",
    "\n",
    "    def remember(self, m):\n",
    "        if len(self.memory)>=self.max_memory:\n",
    "            _ = self.memory.pop()\n",
    "        self.memory.append(m)\n",
    "\n",
    "    def random_access(self):\n",
    "        return random.choice(self.memory)"
   ]
  },
  {
   "cell_type": "markdown",
   "metadata": {},
   "source": [
    "***\n",
    "The pipeline we will use for training is given below:"
   ]
  },
  {
   "cell_type": "code",
   "execution_count": 70,
   "metadata": {},
   "outputs": [],
   "source": [
    "def train(agent,env,epoch,prefix=''):\n",
    "    # Number of won games\n",
    "    score = 0\n",
    "    loss = 0\n",
    "\n",
    "    for e in range(epoch):\n",
    "        # At each epoch, we restart to a fresh game and get the initial state\n",
    "        state = env.reset()\n",
    "        # This assumes that the games will terminate\n",
    "        game_over = False\n",
    "\n",
    "        win = 0\n",
    "        lose = 0\n",
    "\n",
    "        while not game_over:\n",
    "            # The agent performs an action\n",
    "            action = agent.act(state)\n",
    "\n",
    "            # Apply an action to the environment, get the next state, the reward\n",
    "            # and if the games end\n",
    "            prev_state = state\n",
    "            state, reward, game_over = env.act(action)\n",
    "\n",
    "            # Update the counters\n",
    "            if reward > 0:\n",
    "                win = win + reward\n",
    "            if reward < 0:\n",
    "                lose = lose -reward\n",
    "\n",
    "            # Apply the reinforcement strategy\n",
    "            loss = agent.reinforce(prev_state, state,  action, reward, game_over)\n",
    "\n",
    "        # Save as a mp4\n",
    "        if e % 10 == 0:\n",
    "            env.draw(prefix+str(e))\n",
    "\n",
    "        # Update stats\n",
    "        score += win-lose\n",
    "\n",
    "        print(\"Epoch {:03d}/{:03d} | Loss {:.4f} | Win/lose count {}/{} ({})\"\n",
    "              .format(e, epoch, loss, win, lose, win-lose))\n",
    "        agent.save(name_weights=prefix+'model.h5',name_model=prefix+'model.json')"
   ]
  },
  {
   "cell_type": "markdown",
   "metadata": {},
   "source": [
    "***\n",
    "__Question 7__ Implement the DQN training algorithm using a cascade of fully connected layers. You can use different learning rate, batch size or memory size parameters. In particular, the loss might oscillate while the player will start to win the games. You have to find a good criterion."
   ]
  },
  {
   "cell_type": "markdown",
   "metadata": {},
   "source": [
    "*Another question you might ask is why did I say that the input of the neural net is simply a state? Doesn’t Q(s, a) take both a state and an action as an input? Well, there are two ways to approach this. One is to pass the action in as an input, and the other is to have one output per action (which is possible because we have relatively few actions). The latter option is much faster, as clearly explained by the DeepMind paper:*\n",
    "\n",
    "*The main drawback of [passing the action as an input] is that a separate forward pass is required to compute the Q-value of each action, resulting in a cost that scales linearly with the number of actions. We instead use an architecture in which there is a separate output unit for each possible action, and only the state representation is an input to the neural network. The outputs correspond to the predicted Q-values of the individual action for the input state. The main advantage of this type of architecture is the ability to compute Q-values for all possible actions in a given state with only a single forward pass through the network.*"
   ]
  },
  {
   "cell_type": "code",
   "execution_count": 71,
   "metadata": {},
   "outputs": [],
   "source": [
    "class DQN(Agent):\n",
    "    def __init__(self, grid_size,  epsilon = 0.1, memory_size=100, batch_size = 16,n_state=2):\n",
    "        super(DQN, self).__init__(epsilon = epsilon)\n",
    "\n",
    "        # Discount for Q learning\n",
    "        self.discount = 0.99\n",
    "        \n",
    "        self.grid_size = grid_size\n",
    "        \n",
    "        # number of state\n",
    "        self.n_state = n_state # each state is 5x5x2\n",
    "\n",
    "        # Memory\n",
    "        self.memory = Memory(memory_size)\n",
    "        \n",
    "        # Batch size when learning\n",
    "        self.batch_size = batch_size\n",
    "\n",
    "    def learned_act(self, s):\n",
    "        # we only use V functions?\n",
    "        return np.argmax(self.model.predict(s[None]))\n",
    "\n",
    "    def reinforce(self, s_, n_s_, a_, r_, game_over_):\n",
    "        # Two steps: first memorize the states, second learn from the pool\n",
    "\n",
    "        self.memory.remember([s_, n_s_, a_, r_, game_over_])\n",
    "        \n",
    "        input_states = np.zeros((self.batch_size, 5,5,self.n_state))\n",
    "        target_q = np.zeros((self.batch_size, 4))\n",
    "        \n",
    "        for i in range(self.batch_size):\n",
    "            ######## FILL IN\n",
    "            s_, n_s_, a_, r_, game_over_ = self.memory.random_access()\n",
    "            input_states[i] = s_\n",
    "            if game_over_:\n",
    "                Qf = np.zeros(4)\n",
    "            else:\n",
    "                Qf = self.model.predict(n_s_[None])[0]\n",
    "            #print(Qf)\n",
    "            target_q[i][a_] = r_ + self.discount * np.max(Qf) # size 4 ??\n",
    "            #print(np.max(Qf))\n",
    "                \n",
    "        ######## FILL IN target q and input states\n",
    "        # HINT: Clip the target to avoid exploding gradients.. -- clipping is a bit tighter\n",
    "        target_q = np.clip(target_q, -3, 3)\n",
    "\n",
    "        #print(input_states.shape, target_q.shape)\n",
    "        l = self.model.train_on_batch(input_states, target_q)\n",
    "\n",
    "        return l\n",
    "\n",
    "    def save(self,name_weights='model.h5',name_model='model.json'):\n",
    "        self.model.save_weights(name_weights, overwrite=True)\n",
    "        with open(name_model, \"w\") as outfile:\n",
    "            json.dump(self.model.to_json(), outfile)\n",
    "            \n",
    "    def load(self,name_weights='model.h5',name_model='model.json'):\n",
    "        with open(name_model, \"r\") as jfile:\n",
    "            model = model_from_json(json.load(jfile))\n",
    "        model.load_weights(name_weights)\n",
    "        model.compile(\"sgd\", \"mse\")\n",
    "        self.model = model\n",
    "\n",
    "            \n",
    "class DQN_FC(DQN):\n",
    "    def __init__(self, *args, lr=0.1,**kwargs):\n",
    "        super(DQN_FC, self).__init__( *args,**kwargs)\n",
    "        \n",
    "        # NN Model\n",
    "        \n",
    "        ####### FILL IN\n",
    "        model = Sequential()\n",
    "        model.add(Dense(64, input_shape = (5, 5, 2), activation = 'relu'))\n",
    "        model.add(Flatten())\n",
    "        model.add(Dense(32, activation = 'relu'))\n",
    "        model.add(Dense(4, activation = 'softmax'))\n",
    "        \n",
    "        model.compile(sgd(lr=lr, decay=1e-4, momentum=0.0), \"mse\")\n",
    "        self.model = model\n",
    "        "
   ]
  },
  {
   "cell_type": "code",
   "execution_count": 72,
   "metadata": {
    "scrolled": true
   },
   "outputs": [
    {
     "name": "stdout",
     "output_type": "stream",
     "text": [
      "Epoch 000/021 | Loss 0.0320 | Win/lose count 4.0/6.0 (-2.0)\n",
      "Epoch 001/021 | Loss 0.0175 | Win/lose count 4.5/3.0 (1.5)\n",
      "Epoch 002/021 | Loss 0.0113 | Win/lose count 2.5/1.0 (1.5)\n",
      "Epoch 003/021 | Loss 0.0207 | Win/lose count 1.5/2.0 (-0.5)\n",
      "Epoch 004/021 | Loss 0.0127 | Win/lose count 0/1.0 (-1.0)\n",
      "Epoch 005/021 | Loss 0.0184 | Win/lose count 2.0/9.0 (-7.0)\n",
      "Epoch 006/021 | Loss 0.0203 | Win/lose count 1.5/5.0 (-3.5)\n",
      "Epoch 007/021 | Loss 0.0710 | Win/lose count 2.0/1.0 (1.0)\n",
      "Epoch 008/021 | Loss 0.0311 | Win/lose count 3.0/4.0 (-1.0)\n",
      "Epoch 009/021 | Loss 0.0321 | Win/lose count 1.5/4.0 (-2.5)\n",
      "Epoch 010/021 | Loss 0.0344 | Win/lose count 2.5/3.0 (-0.5)\n",
      "Epoch 011/021 | Loss 0.0195 | Win/lose count 1.0/8.0 (-7.0)\n",
      "Epoch 012/021 | Loss 0.0228 | Win/lose count 1.5/1.0 (0.5)\n",
      "Epoch 013/021 | Loss 0.0358 | Win/lose count 1.5/7.0 (-5.5)\n",
      "Epoch 014/021 | Loss 0.0340 | Win/lose count 2.0/4.0 (-2.0)\n",
      "Epoch 015/021 | Loss 0.0232 | Win/lose count 1.5/3.0 (-1.5)\n",
      "Epoch 016/021 | Loss 0.0432 | Win/lose count 2.5/1.0 (1.5)\n",
      "Epoch 017/021 | Loss 0.0425 | Win/lose count 1.5/6.0 (-4.5)\n",
      "Epoch 018/021 | Loss 0.0227 | Win/lose count 3.5/3.0 (0.5)\n",
      "Epoch 019/021 | Loss 0.0348 | Win/lose count 3.5/5.0 (-1.5)\n",
      "Epoch 020/021 | Loss 0.0145 | Win/lose count 2.5/3.0 (-0.5)\n"
     ]
    },
    {
     "data": {
      "text/html": [
       "<video alt=\"test\" controls>\n",
       "                <source src=\"data:video/mp4;base64,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\" type=\"video/mp4\" />\n",
       "             </video>"
      ],
      "text/plain": [
       "<IPython.core.display.HTML object>"
      ]
     },
     "execution_count": 72,
     "metadata": {},
     "output_type": "execute_result"
    }
   ],
   "source": [
    "epochs_train = 21\n",
    "\n",
    "env = Environment(grid_size=size, max_time=T, temperature=0.3)\n",
    "agent = DQN_FC(size, lr=.1, epsilon = 0.1, memory_size=500, batch_size = 32) #lr 0.01 mem 2000 bs 32\n",
    "train(agent, env, epochs_train, prefix='fc_train')\n",
    "HTML(display_videos('fc_train20.mp4'))"
   ]
  },
  {
   "cell_type": "markdown",
   "metadata": {},
   "source": [
    "***\n",
    "***\n",
    "__Question 8__ Implement the DQN training algorithm using a CNN (for example, 2 convolutional layers and one final fully connected layer)."
   ]
  },
  {
   "cell_type": "code",
   "execution_count": 73,
   "metadata": {},
   "outputs": [],
   "source": [
    "class DQN_CNN(DQN):\n",
    "    def __init__(self, *args,lr=0.1,**kwargs):\n",
    "        super(DQN_CNN, self).__init__(*args,**kwargs)\n",
    "        \n",
    "        ###### FILL IN\n",
    "        \n",
    "        model = Sequential()\n",
    "        #model.add(Reshape((5, 5), input_shape = (5, 5, 2)))\n",
    "        model.add(Conv2D(32, (3, 3), input_shape = (5, 5, 2), activation = 'relu')) # channels last\n",
    "        model.add(Conv2D(16, (2, 2), activation = 'relu'))\n",
    "        \n",
    "        model.add(Flatten())\n",
    "        model.add(Dense(32, activation = 'relu'))\n",
    "        model.add(Dense(4, activation = 'softmax'))\n",
    "        \n",
    "        \n",
    "        # Conv2D, MaxPooling2D, Activation, AveragePooling2D,Reshape,BatchNormalization\n",
    "        model.compile(sgd(lr=lr, momentum=0.0, decay=1e-4), \"mse\") # \n",
    "        self.model = model"
   ]
  },
  {
   "cell_type": "code",
   "execution_count": 74,
   "metadata": {
    "scrolled": true
   },
   "outputs": [
    {
     "name": "stdout",
     "output_type": "stream",
     "text": [
      "Epoch 000/021 | Loss 0.0228 | Win/lose count 0.5/2.0 (-1.5)\n",
      "Epoch 001/021 | Loss 0.0385 | Win/lose count 2.0/5.0 (-3.0)\n",
      "Epoch 002/021 | Loss 0.0280 | Win/lose count 0.5/4.0 (-3.5)\n",
      "Epoch 003/021 | Loss 0.0312 | Win/lose count 3.0/4.0 (-1.0)\n",
      "Epoch 004/021 | Loss 0.0241 | Win/lose count 1.0/6.0 (-5.0)\n",
      "Epoch 005/021 | Loss 0.0310 | Win/lose count 1.0/4.0 (-3.0)\n",
      "Epoch 006/021 | Loss 0.0141 | Win/lose count 3.5/7.0 (-3.5)\n",
      "Epoch 007/021 | Loss 0.0533 | Win/lose count 4.5/2.0 (2.5)\n",
      "Epoch 008/021 | Loss 0.0200 | Win/lose count 2.0/8.0 (-6.0)\n",
      "Epoch 009/021 | Loss 0.0200 | Win/lose count 4.5/2.0 (2.5)\n",
      "Epoch 010/021 | Loss 0.0348 | Win/lose count 1.5/2.0 (-0.5)\n",
      "Epoch 011/021 | Loss 0.0388 | Win/lose count 2.0/3.0 (-1.0)\n",
      "Epoch 012/021 | Loss 0.0284 | Win/lose count 2.0/2.0 (0.0)\n",
      "Epoch 013/021 | Loss 0.0201 | Win/lose count 3.0/1.0 (2.0)\n",
      "Epoch 014/021 | Loss 0.0318 | Win/lose count 5.0/3.0 (2.0)\n",
      "Epoch 015/021 | Loss 0.0196 | Win/lose count 2.5/4.0 (-1.5)\n",
      "Epoch 016/021 | Loss 0.0146 | Win/lose count 2.0/2.0 (0.0)\n",
      "Epoch 017/021 | Loss 0.0197 | Win/lose count 3.0/2.0 (1.0)\n",
      "Epoch 018/021 | Loss 0.0324 | Win/lose count 1.0/2.0 (-1.0)\n",
      "Epoch 019/021 | Loss 0.0269 | Win/lose count 2.0/4.0 (-2.0)\n",
      "Epoch 020/021 | Loss 0.0181 | Win/lose count 3.0/2.0 (1.0)\n"
     ]
    },
    {
     "data": {
      "text/html": [
       "<video alt=\"test\" controls>\n",
       "                <source src=\"data:video/mp4;base64,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\" type=\"video/mp4\" />\n",
       "             </video>"
      ],
      "text/plain": [
       "<IPython.core.display.HTML object>"
      ]
     },
     "execution_count": 74,
     "metadata": {},
     "output_type": "execute_result"
    }
   ],
   "source": [
    "epochs_train = 21\n",
    "env = Environment(grid_size=size, max_time=T, temperature=0.3)\n",
    "agent = DQN_CNN(size, lr=1e-1, epsilon = 0.1, memory_size=500, batch_size = 32)\n",
    "train(agent,env,epochs_train,prefix='cnn_train')\n",
    "HTML(display_videos('cnn_train20.mp4'))"
   ]
  },
  {
   "cell_type": "markdown",
   "metadata": {},
   "source": [
    "***\n",
    "***\n",
    "__Question 9__ Test both algorithms and compare their performances. Which issue(s) do you observe? Observe also different behaviors by changing the temperature."
   ]
  },
  {
   "cell_type": "code",
   "execution_count": 75,
   "metadata": {},
   "outputs": [
    {
     "name": "stdout",
     "output_type": "stream",
     "text": [
      "Test of the CNN\n",
      "Win/lose count 1.5/4.0. Average score (-2.5)\n",
      "Win/lose count 1.5/2.0. Average score (-1.5)\n",
      "Win/lose count 2.5/4.0. Average score (-1.5)\n",
      "Win/lose count 5.0/3.0. Average score (-0.625)\n",
      "Win/lose count 1.0/1.0. Average score (-0.5)\n",
      "Win/lose count 3.0/1.0. Average score (-0.08333333333333333)\n",
      "Win/lose count 1.5/1.0. Average score (0.0)\n",
      "Win/lose count 1.5/2.0. Average score (-0.0625)\n",
      "Win/lose count 3.5/3.0. Average score (0.0)\n",
      "Win/lose count 1.0/6.0. Average score (-0.5)\n",
      "Win/lose count 2.0/5.0. Average score (-0.7272727272727273)\n",
      "Final score: -0.7272727272727273\n",
      "Test of the FC\n",
      "Win/lose count 2.0/4.0. Average score (-2.0)\n",
      "Win/lose count 0.5/5.0. Average score (-3.25)\n",
      "Win/lose count 2.5/4.0. Average score (-2.6666666666666665)\n",
      "Win/lose count 3.0/2.0. Average score (-1.75)\n",
      "Win/lose count 2.5/3.0. Average score (-1.5)\n",
      "Win/lose count 3.5/3.0. Average score (-1.1666666666666667)\n",
      "Win/lose count 3.0/6.0. Average score (-1.4285714285714286)\n",
      "Win/lose count 3.0/2.0. Average score (-1.125)\n",
      "Win/lose count 2.5/2.0. Average score (-0.9444444444444444)\n",
      "Win/lose count 0.5/6.0. Average score (-1.4)\n",
      "Win/lose count 2.0/3.0. Average score (-1.3636363636363635)\n",
      "Final score: -1.3636363636363635\n"
     ]
    }
   ],
   "source": [
    "epochs_test = 11\n",
    "\n",
    "env = Environment(grid_size=size, max_time=T,temperature=0.3) # 0.1 0.3\n",
    "agent_cnn = DQN_CNN(size, lr=.1, epsilon = 0.1, memory_size=2000, batch_size = 32)\n",
    "agent_cnn.load(name_weights='cnn_trainmodel.h5',name_model='cnn_trainmodel.json')\n",
    "\n",
    "agent_fc = DQN_FC(size, lr=.1, epsilon = 0.1, memory_size=2000, batch_size = 32)\n",
    "agent_cnn.load(name_weights='fc_trainmodel.h5',name_model='fc_trainmodel.json')\n",
    "print('Test of the CNN')\n",
    "test(agent_cnn,env,epochs_test,prefix='cnn_test')\n",
    "print('Test of the FC')\n",
    "test(agent_fc,env,epochs_test,prefix='fc_test')"
   ]
  },
  {
   "cell_type": "code",
   "execution_count": 76,
   "metadata": {},
   "outputs": [
    {
     "data": {
      "text/html": [
       "<video alt=\"test\" controls>\n",
       "                <source src=\"data:video/mp4;base64,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\" type=\"video/mp4\" />\n",
       "             </video>"
      ],
      "text/plain": [
       "<IPython.core.display.HTML object>"
      ]
     },
     "execution_count": 76,
     "metadata": {},
     "output_type": "execute_result"
    }
   ],
   "source": [
    "HTML(display_videos('cnn_test10.mp4'))"
   ]
  },
  {
   "cell_type": "code",
   "execution_count": 77,
   "metadata": {},
   "outputs": [
    {
     "data": {
      "text/html": [
       "<video alt=\"test\" controls>\n",
       "                <source src=\"data:video/mp4;base64,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\" type=\"video/mp4\" />\n",
       "             </video>"
      ],
      "text/plain": [
       "<IPython.core.display.HTML object>"
      ]
     },
     "execution_count": 77,
     "metadata": {},
     "output_type": "execute_result"
    }
   ],
   "source": [
    "HTML(display_videos('fc_test10.mp4'))"
   ]
  },
  {
   "cell_type": "markdown",
   "metadata": {},
   "source": [
    "Usually, the agents tend to avoid the blue squares, but they do not explore the board. Instead, they keep a conservative policy that makes loops around itself. The convnet almost always achieves better results than the fully connected network."
   ]
  },
  {
   "cell_type": "markdown",
   "metadata": {},
   "source": [
    "***\n",
    "\n",
    "The algorithm tends to not explore the map which can be an issue. We propose two ideas in order to encourage exploration:\n",
    "1. Incorporating a decreasing $\\epsilon$-greedy exploration. You can use the method ```set_epsilon```\n",
    "2. Append via the environment a new state that describes if a cell has been visited or not\n",
    "\n",
    "***\n",
    "__Question 10__ Design a new ```train_explore``` function and environment class ```EnvironmentExploring``` to tackle the issue of exploration.\n",
    "\n"
   ]
  },
  {
   "cell_type": "code",
   "execution_count": 90,
   "metadata": {},
   "outputs": [],
   "source": [
    "def train_explore(agent,env,epoch,prefix=''):\n",
    "    \n",
    "    ## use those samples of code:\n",
    "    #In train explore:\n",
    "    #state, reward, game_over = env.act(action, train=True)\n",
    "    \n",
    "    \n",
    "    # Number of won games\n",
    "    score = 0\n",
    "    loss = 0\n",
    "\n",
    "    for e in range(epoch):\n",
    "        # At each epoch, we restart to a fresh game and get the initial state\n",
    "        state = env.reset()\n",
    "        # This assumes that the games will terminate\n",
    "        game_over = False\n",
    "\n",
    "        win = 0\n",
    "        lose = 0\n",
    "        \n",
    "        agent.set_epsilon(agent.epsilon * 0.95) # decrease the parameter epsilon at each epoch\n",
    "\n",
    "        while not game_over:\n",
    "            # The agent performs an action (epsilon greedy)\n",
    "            action = agent.act(state, train=True)\n",
    "            \n",
    "            # Apply an action to the environment, get the next state, the reward\n",
    "            # and if the games end\n",
    "            prev_state = state\n",
    "            state, reward, game_over = env.act(action, train = True)\n",
    "\n",
    "            # Update the counters\n",
    "            if reward > 0:\n",
    "                win = win + reward\n",
    "            if reward < 0:\n",
    "                lose = lose -reward\n",
    "\n",
    "            # Apply the reinforcement strategy\n",
    "            loss = agent.reinforce(prev_state, state,  action, reward, game_over)\n",
    "\n",
    "        # Save as a mp4\n",
    "        if e % 10 == 0:\n",
    "            env.draw(prefix+str(e))\n",
    "\n",
    "        # Update stats\n",
    "        score += win-lose\n",
    "\n",
    "        print(\"Epoch {:03d}/{:03d} | Loss {:.4f} | Win/lose count {}/{} ({})\"\n",
    "              .format(e, epoch, loss, win, lose, win-lose))\n",
    "        agent.save(name_weights=prefix+'model.h5',name_model=prefix+'model.json')\n",
    "    \n",
    "    \n",
    "    \n",
    "    \n",
    "        \n",
    "class EnvironmentExploring(object):\n",
    "    def __init__(self, grid_size=10, max_time=500, temperature=0.1):\n",
    "        grid_size = grid_size+4\n",
    "        self.grid_size = grid_size\n",
    "        self.max_time = max_time\n",
    "        self.temperature = temperature\n",
    "\n",
    "        #board on which one plays\n",
    "        self.board = np.zeros((grid_size,grid_size))\n",
    "        self.position = np.zeros((grid_size,grid_size))\n",
    "        self.malus_position = np.zeros((grid_size,grid_size)) # another board to store the malus\n",
    "\n",
    "        # coordinate of the cat (rat?)\n",
    "        self.x = 0\n",
    "        self.y = 1\n",
    "\n",
    "        # self time\n",
    "        self.t = 0\n",
    "\n",
    "        self.scale=16\n",
    "\n",
    "        self.to_draw = np.zeros((max_time+2, grid_size*self.scale, grid_size*self.scale, 3))\n",
    "\n",
    "\n",
    "    def draw(self,e):\n",
    "        skvideo.io.vwrite(str(e) + '.mp4', self.to_draw)\n",
    "\n",
    "    def get_frame(self,t):\n",
    "        b = np.zeros((self.grid_size,self.grid_size,3))+128\n",
    "        b[self.board>0,0] = 256\n",
    "        b[self.board < 0, 2] = 256\n",
    "        b[self.x,self.y,:]=256 # rat in black?\n",
    "        b[-2:,:,:]=0\n",
    "        b[:,-2:,:]=0\n",
    "        b[:2,:,:]=0\n",
    "        b[:,:2,:]=0\n",
    "        # forbidden borders in white?\n",
    "        b =  cv2.resize(b, None, fx=self.scale, fy=self.scale, interpolation=cv2.INTER_NEAREST)\n",
    "\n",
    "        self.to_draw[t,:,:,:]=b\n",
    "\n",
    "\n",
    "    def act(self, action, train = False):\n",
    "        \"\"\"This function returns the new state, reward and decides if the\n",
    "        game ends.\"\"\"\n",
    "        \n",
    "        self.get_frame(int(self.t))\n",
    "\n",
    "        self.position = np.zeros((self.grid_size, self.grid_size))\n",
    "\n",
    "        self.position[0:2,:]= -1\n",
    "        self.position[:,0:2] = -1\n",
    "        self.position[-2:, :] = -1\n",
    "        self.position[-2:, :] = -1\n",
    "\n",
    "        self.position[self.x, self.y] = 1\n",
    "        if action == 0:\n",
    "            if self.x == self.grid_size-3:\n",
    "                self.x = self.x-1\n",
    "            else:\n",
    "                self.x = self.x + 1\n",
    "        elif action == 1:\n",
    "            if self.x == 2:\n",
    "                self.x = self.x+1\n",
    "            else:\n",
    "                self.x = self.x-1\n",
    "        elif action == 2:\n",
    "            if self.y == self.grid_size - 3:\n",
    "                self.y = self.y - 1\n",
    "            else:\n",
    "                self.y = self.y + 1\n",
    "        elif action == 3:\n",
    "            if self.y == 2:\n",
    "                self.y = self.y + 1\n",
    "            else:\n",
    "                self.y = self.y - 1\n",
    "        else:\n",
    "            RuntimeError('Error: action not recognized')\n",
    "\n",
    "        self.t = self.t + 1\n",
    "        \n",
    "        #reward = self.board[self.x, self.y]\n",
    "        # this line is replaced by the following block\n",
    "        reward = 0\n",
    "        if train: # dont apply it if in test\n",
    "            reward = -self.malus_position[self.x, self.y]\n",
    "        self.malus_position[self.x, self.y] = 0.3 #0.1\n",
    "        reward = reward + self.board[self.x, self.y]\n",
    "\n",
    "        self.board[self.x, self.y] = 0\n",
    "        game_over = self.t > self.max_time\n",
    "        \n",
    "        # 3 \"feature\" states instead of 2\n",
    "        state = np.concatenate((self.malus_position.reshape(self.grid_size, self.grid_size,1),\n",
    "                                self.board.reshape(self.grid_size, self.grid_size,1),\n",
    "                        self.position.reshape(self.grid_size, self.grid_size,1)),axis=2)\n",
    "        \n",
    "        state = state[self.x-2:self.x+3,self.y-2:self.y+3,:]\n",
    "\n",
    "        return state, reward, game_over\n",
    "\n",
    "    def reset(self):\n",
    "        \"\"\"This function resets the game and returns the initial state\"\"\"\n",
    "\n",
    "        self.x = np.random.randint(3, self.grid_size-3, size=1)[0]\n",
    "        self.y = np.random.randint(3, self.grid_size-3, size=1)[0]\n",
    "\n",
    "\n",
    "        bonus = 0.5*np.random.binomial(1,self.temperature,size=self.grid_size**2) # in fact bernoulli\n",
    "        bonus = bonus.reshape(self.grid_size,self.grid_size)\n",
    "\n",
    "        malus = -1.0*np.random.binomial(1,self.temperature,size=self.grid_size**2)\n",
    "        malus = malus.reshape(self.grid_size, self.grid_size)\n",
    "\n",
    "        self.to_draw = np.zeros((self.max_time+2, self.grid_size*self.scale, self.grid_size*self.scale, 3))\n",
    "\n",
    "\n",
    "        malus[bonus>0]=0\n",
    "\n",
    "        self.board = bonus + malus\n",
    "\n",
    "        self.position = np.zeros((self.grid_size, self.grid_size))\n",
    "        self.position[0:2,:]= -1\n",
    "        self.position[:,0:2] = -1\n",
    "        self.position[-2:, :] = -1\n",
    "        self.position[-2:, :] = -1\n",
    "        self.board[self.x,self.y] = 0\n",
    "        self.t = 0\n",
    "\n",
    "        # 3 \"feature\" states instead of 2\n",
    "        state = np.concatenate((self.malus_position.reshape(self.grid_size, self.grid_size,1),\n",
    "                                self.board.reshape(self.grid_size, self.grid_size,1),\n",
    "                        self.position.reshape(self.grid_size, self.grid_size,1)),axis=2)\n",
    "        \n",
    "\n",
    "        state = state[self.x - 2:self.x + 3, self.y - 2:self.y + 3, :]\n",
    "        return state\n",
    "    \n",
    "    \n",
    "\n",
    "## In Environment exploring:\n",
    "## You will have to change n_state to 3 because you will use one more layer! -> ok in the agent\n"
   ]
  },
  {
   "cell_type": "code",
   "execution_count": 91,
   "metadata": {},
   "outputs": [],
   "source": [
    "# We change our CNN model to fit the right input\n",
    "\n",
    "from keras import backend as K\n",
    "keras.backend.set_learning_phase(1)\n",
    "\n",
    "class DQN_CNN(DQN):\n",
    "    def __init__(self, *args,lr=0.1,**kwargs):\n",
    "        super(DQN_CNN, self).__init__(*args,**kwargs)\n",
    "        \n",
    "        ###### FILL IN\n",
    "        model = Sequential()\n",
    "        model.add(Conv2D(32, (3, 3), input_shape = (5, 5, 3), activation = 'relu')) # channels last\n",
    "        model.add(Conv2D(16, (2, 2), activation = 'relu'))\n",
    "        model.add(BatchNormalization())\n",
    "        \n",
    "        model.add(Flatten())\n",
    "        model.add(Dense(32, activation = 'relu'))\n",
    "        model.add(Dense(4, activation = 'softmax'))\n",
    "        \n",
    "        \n",
    "        #model.add(BatchNormalization())\n",
    "        #model.add(Dropout(.25))\n",
    "        #model.add(AveragePooling2D())\n",
    "        \n",
    "        # Conv2D, MaxPooling2D, Activation, AveragePooling2D,Reshape,BatchNormalization\n",
    "        model.compile(sgd(lr=lr, momentum=0.0, decay=1e-4), \"mse\") # \n",
    "        self.model = model"
   ]
  },
  {
   "cell_type": "code",
   "execution_count": 94,
   "metadata": {
    "scrolled": true
   },
   "outputs": [
    {
     "name": "stdout",
     "output_type": "stream",
     "text": [
      "Epoch 000/051 | Loss 0.0554 | Win/lose count 11.5/52.69999999999987 (-41.19999999999987)\n",
      "Epoch 001/051 | Loss 0.0576 | Win/lose count 11.499999999999996/53.299999999999855 (-41.799999999999855)\n",
      "Epoch 002/051 | Loss 0.0546 | Win/lose count 6.700000000000002/63.099999999999824 (-56.39999999999982)\n",
      "Epoch 003/051 | Loss 0.0616 | Win/lose count 11.5/59.99999999999981 (-48.49999999999981)\n",
      "Epoch 004/051 | Loss 0.0607 | Win/lose count 3.700000000000001/68.39999999999974 (-64.69999999999973)\n",
      "Epoch 005/051 | Loss 0.0556 | Win/lose count 7.0000000000000036/64.79999999999978 (-57.799999999999784)\n",
      "Epoch 006/051 | Loss 0.0546 | Win/lose count 3.900000000000001/68.29999999999971 (-64.39999999999971)\n",
      "Epoch 007/051 | Loss 0.0448 | Win/lose count 3.800000000000001/71.99999999999973 (-68.19999999999973)\n",
      "Epoch 008/051 | Loss 0.0514 | Win/lose count 5.000000000000002/62.49999999999977 (-57.49999999999977)\n",
      "Epoch 009/051 | Loss 0.0750 | Win/lose count 7.800000000000004/57.59999999999985 (-49.79999999999985)\n",
      "Epoch 010/051 | Loss 0.0630 | Win/lose count 2.8000000000000003/64.09999999999977 (-61.29999999999977)\n",
      "Epoch 011/051 | Loss 0.0487 | Win/lose count 6.200000000000003/66.99999999999977 (-60.79999999999977)\n",
      "Epoch 012/051 | Loss 0.0511 | Win/lose count 4.000000000000001/67.29999999999976 (-63.299999999999756)\n",
      "Epoch 013/051 | Loss 0.0558 | Win/lose count 2.4/62.69999999999978 (-60.299999999999784)\n",
      "Epoch 014/051 | Loss 0.0448 | Win/lose count 4.000000000000001/69.29999999999974 (-65.29999999999974)\n",
      "Epoch 015/051 | Loss 0.0509 | Win/lose count 5.400000000000002/70.19999999999978 (-64.79999999999977)\n",
      "Epoch 016/051 | Loss 0.0467 | Win/lose count 3.0000000000000004/62.79999999999976 (-59.79999999999976)\n",
      "Epoch 017/051 | Loss 0.0423 | Win/lose count 3.400000000000001/61.19999999999979 (-57.79999999999979)\n",
      "Epoch 018/051 | Loss 0.0758 | Win/lose count 2.6/65.39999999999978 (-62.79999999999978)\n",
      "Epoch 019/051 | Loss 0.0637 | Win/lose count 4.800000000000002/65.09999999999981 (-60.299999999999805)\n",
      "Epoch 020/051 | Loss 0.0607 | Win/lose count 4.600000000000001/59.39999999999982 (-54.79999999999982)\n",
      "Epoch 021/051 | Loss 0.0616 | Win/lose count 5.000000000000002/65.7999999999998 (-60.7999999999998)\n",
      "Epoch 022/051 | Loss 0.0706 | Win/lose count 5.8000000000000025/64.59999999999978 (-58.79999999999978)\n",
      "Epoch 023/051 | Loss 0.0542 | Win/lose count 6.200000000000003/60.999999999999815 (-54.79999999999981)\n",
      "Epoch 024/051 | Loss 0.0435 | Win/lose count 1.9999999999999998/63.299999999999805 (-61.299999999999805)\n",
      "Epoch 025/051 | Loss 0.0444 | Win/lose count 5.000000000000002/55.79999999999982 (-50.79999999999982)\n",
      "Epoch 026/051 | Loss 0.0674 | Win/lose count 1.7999999999999998/65.59999999999975 (-63.799999999999756)\n",
      "Epoch 027/051 | Loss 0.0597 | Win/lose count 7.200000000000004/57.49999999999982 (-50.29999999999982)\n",
      "Epoch 028/051 | Loss 0.0506 | Win/lose count 1.7999999999999998/65.59999999999974 (-63.79999999999974)\n",
      "Epoch 029/051 | Loss 0.0519 | Win/lose count 3.2000000000000006/60.49999999999977 (-57.29999999999977)\n",
      "Epoch 030/051 | Loss 0.0489 | Win/lose count 6.800000000000003/53.09999999999986 (-46.299999999999855)\n",
      "Epoch 031/051 | Loss 0.0536 | Win/lose count 2.1999999999999997/63.99999999999975 (-61.79999999999975)\n",
      "Epoch 032/051 | Loss 0.0538 | Win/lose count 2.8000000000000003/67.09999999999977 (-64.29999999999977)\n",
      "Epoch 033/051 | Loss 0.0516 | Win/lose count 3.400000000000001/59.1999999999998 (-55.7999999999998)\n",
      "Epoch 034/051 | Loss 0.0689 | Win/lose count 2.4/65.69999999999976 (-63.29999999999976)\n",
      "Epoch 035/051 | Loss 0.0662 | Win/lose count 3.800000000000001/56.59999999999983 (-52.79999999999983)\n",
      "Epoch 036/051 | Loss 0.0371 | Win/lose count 3.2000000000000006/62.499999999999794 (-59.29999999999979)\n",
      "Epoch 037/051 | Loss 0.0612 | Win/lose count 3.0000000000000004/56.79999999999983 (-53.79999999999983)\n",
      "Epoch 038/051 | Loss 0.0715 | Win/lose count 3.800000000000001/56.59999999999983 (-52.79999999999983)\n",
      "Epoch 039/051 | Loss 0.0543 | Win/lose count 3.0000000000000004/64.79999999999977 (-61.79999999999977)\n",
      "Epoch 040/051 | Loss 0.0755 | Win/lose count 4.400000000000001/56.69999999999985 (-52.29999999999985)\n",
      "Epoch 041/051 | Loss 0.0597 | Win/lose count 6.200000000000003/55.99999999999984 (-49.799999999999834)\n",
      "Epoch 042/051 | Loss 0.0418 | Win/lose count 3.400000000000001/60.19999999999979 (-56.79999999999979)\n",
      "Epoch 043/051 | Loss 0.0464 | Win/lose count 4.200000000000001/55.99999999999982 (-51.79999999999982)\n",
      "Epoch 044/051 | Loss 0.0542 | Win/lose count 1.9999999999999998/61.29999999999979 (-59.29999999999979)\n",
      "Epoch 045/051 | Loss 0.0395 | Win/lose count 0.6000000000000001/61.39999999999977 (-60.79999999999977)\n",
      "Epoch 046/051 | Loss 0.0432 | Win/lose count 1.7999999999999998/65.59999999999978 (-63.799999999999784)\n",
      "Epoch 047/051 | Loss 0.0539 | Win/lose count 2.8000000000000003/58.09999999999982 (-55.29999999999982)\n",
      "Epoch 048/051 | Loss 0.0447 | Win/lose count 1.7999999999999998/59.59999999999979 (-57.79999999999979)\n",
      "Epoch 049/051 | Loss 0.0501 | Win/lose count 3.600000000000001/61.899999999999814 (-58.29999999999981)\n",
      "Epoch 050/051 | Loss 0.0579 | Win/lose count 1.7999999999999998/58.5999999999998 (-56.799999999999805)\n"
     ]
    },
    {
     "data": {
      "text/html": [
       "<video alt=\"test\" controls>\n",
       "                <source src=\"data:video/mp4;base64,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\" type=\"video/mp4\" />\n",
       "             </video>"
      ],
      "text/plain": [
       "<IPython.core.display.HTML object>"
      ]
     },
     "execution_count": 94,
     "metadata": {},
     "output_type": "execute_result"
    }
   ],
   "source": [
    "# Training\n",
    "epochs_train = 51\n",
    "env = EnvironmentExploring(grid_size=size, max_time=T, temperature=0.3)\n",
    "agent = DQN_CNN(size, lr=2., epsilon = 0.9, memory_size=500, batch_size = 32,n_state=3) # eps 0.9 lr 1.\n",
    "train_explore(agent, env, epochs_train, prefix='cnn_train_explore')\n",
    "HTML(display_videos('cnn_train_explore50.mp4'))"
   ]
  },
  {
   "cell_type": "code",
   "execution_count": null,
   "metadata": {},
   "outputs": [
    {
     "name": "stdout",
     "output_type": "stream",
     "text": [
      "Win/lose count 5.0/6.0. Average score (-1.0)\n",
      "Win/lose count 10.5/3.0. Average score (3.25)\n",
      "Win/lose count 8.0/2.0. Average score (4.166666666666667)\n",
      "Win/lose count 4.0/1.0. Average score (3.875)\n"
     ]
    }
   ],
   "source": [
    "# Evaluation\n",
    "test(agent,env,epochs_test,prefix='cnn_test_explore')\n",
    "HTML(display_videos('cnn_test_explore10.mp4'))"
   ]
  },
  {
   "cell_type": "markdown",
   "metadata": {},
   "source": [
    "***\n",
    "***\n",
    "__BONUS question__ Use the expert DQN from the previous question to generate some winning games. Train a model that mimicks its behavior. Compare the performances."
   ]
  },
  {
   "cell_type": "markdown",
   "metadata": {},
   "source": []
  },
  {
   "cell_type": "markdown",
   "metadata": {},
   "source": [
    "***"
   ]
  }
 ],
 "metadata": {
  "kernelspec": {
   "display_name": "Python 3",
   "language": "python",
   "name": "python3"
  },
  "language_info": {
   "codemirror_mode": {
    "name": "ipython",
    "version": 3
   },
   "file_extension": ".py",
   "mimetype": "text/x-python",
   "name": "python",
   "nbconvert_exporter": "python",
   "pygments_lexer": "ipython3",
   "version": "3.7.0"
  }
 },
 "nbformat": 4,
 "nbformat_minor": 2
}
