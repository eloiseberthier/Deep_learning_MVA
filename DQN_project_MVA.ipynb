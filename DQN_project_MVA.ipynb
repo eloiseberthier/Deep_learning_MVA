{
 "cells": [
  {
   "cell_type": "markdown",
   "metadata": {},
   "source": [
    "**You may need to install [OpenCV](https://pypi.python.org/pypi/opencv-python) and [scikit-video](http://www.scikit-video.org/stable/).**"
   ]
  },
  {
   "cell_type": "code",
   "execution_count": 48,
   "metadata": {},
   "outputs": [],
   "source": [
    "import keras\n",
    "import numpy as np\n",
    "import io\n",
    "import base64\n",
    "from IPython.display import HTML\n",
    "import skvideo.io\n",
    "import cv2\n",
    "import json\n",
    "\n",
    "from keras.models import Sequential,model_from_json\n",
    "from keras.layers.core import Dense, Flatten\n",
    "from keras.optimizers import sgd, adam\n",
    "from keras.layers import Conv2D, MaxPooling2D, Activation, AveragePooling2D,Reshape,BatchNormalization"
   ]
  },
  {
   "cell_type": "markdown",
   "metadata": {},
   "source": [
    "# MiniProject #3: Deep Reinforcement Learning"
   ]
  },
  {
   "cell_type": "markdown",
   "metadata": {},
   "source": [
    "__Notations__: $E_p$ is the expectation under probability $p$. Please justify each of your answer and widely comment your code."
   ]
  },
  {
   "cell_type": "markdown",
   "metadata": {},
   "source": [
    "# Context"
   ]
  },
  {
   "cell_type": "markdown",
   "metadata": {},
   "source": [
    "In a reinforcement learning algorithm, we modelize each step $t$ as an action $a_t$ obtained from a state $s_t$, i.e. $\\{(a_{t},s_{t})_{t\\leq T}\\}$ having the Markov property. We consider a discount factor $\\gamma \\in [0,1]$ that ensures convergence. The goal is to find among all the policies $\\pi$, one that maximizes the expected reward:\n",
    "\n",
    "\\begin{equation*}\n",
    "R(\\pi)=\\sum_{t\\leq T}E_{p^{\\pi}}[\\gamma^t r(s_{t},a_{t})] \\> ,\n",
    "\\end{equation*}\n",
    "\n",
    "where: \n",
    "\\begin{equation*}p^{\\pi}(a_{0},a_{1},s_{1},...,a_{T},s_{T})=p(a_{0})\\prod_{t=1}^{T}\\pi(a_{t}|s_{t})p(s_{t+1}|s_{t},a_{t}) \\> .\n",
    "\\end{equation*}\n",
    "\n",
    "We note the $Q$-function:\n",
    "\n",
    "\\begin{equation*}Q^\\pi(s,a)=E_{p^{\\pi}}[\\sum_{t\\leq T}\\gamma^{t}r(s_{t},a_{t})|s_{0}=s,a_{0}=a] \\> .\n",
    "\\end{equation*}\n",
    "\n",
    "Thus, the optimal Q function is:\n",
    "\\begin{equation*}\n",
    "Q^*(s,a)=\\max_{\\pi}Q^\\pi(s,a) \\> .\n",
    "\\end{equation*}\n",
    "\n",
    "In this project, we will apply the deep reinforcement learning techniques to a simple game: an agent will have to learn from scratch a policy that will permit it maximizing a reward."
   ]
  },
  {
   "cell_type": "markdown",
   "metadata": {},
   "source": [
    "## The environment, the agent and the game"
   ]
  },
  {
   "cell_type": "markdown",
   "metadata": {},
   "source": [
    "### The environment"
   ]
  },
  {
   "cell_type": "markdown",
   "metadata": {},
   "source": [
    "```Environment``` is an abstract class that represents the states, rewards, and actions to obtain the new state."
   ]
  },
  {
   "cell_type": "code",
   "execution_count": 2,
   "metadata": {},
   "outputs": [],
   "source": [
    "class Environment(object):\n",
    "    def __init__(self):\n",
    "        pass\n",
    "\n",
    "    def act(self, act):\n",
    "        \"\"\"\n",
    "        One can act on the environment and obtain its reaction:\n",
    "        - the new state\n",
    "        - the reward of the new state\n",
    "        - should we continue the game?\n",
    "\n",
    "        :return: state, reward, game_over\n",
    "        \"\"\"\n",
    "        pass\n",
    "\n",
    "\n",
    "    def reset(self):\n",
    "        \"\"\"\n",
    "        Reinitialize the environment to a random state and returns\n",
    "        the original state\n",
    "\n",
    "        :return: state\n",
    "        \"\"\"\n",
    "        pass\n",
    "    \n",
    "    def draw(self):\n",
    "        \"\"\"\n",
    "        Visualize in the console or graphically the current state\n",
    "        \"\"\"\n",
    "        pass"
   ]
  },
  {
   "cell_type": "markdown",
   "metadata": {},
   "source": [
    "The method ```act``` allows to act on the environment at a given state $s_t$ (stored internally), via action $a_t$. The method will return the new state $s_{t+1}$, the reward $r(s_{t},a_{t})$ and determines if $t\\leq T$ (*game_over*).\n",
    "\n",
    "The method ```reset``` simply reinitializes the environment to a random state $s_0$.\n",
    "\n",
    "The method ```draw``` displays the current state $s_t$ (this is useful to check the behavior of the Agent).\n",
    "\n",
    "We modelize $s_t$ as a tensor, while $a_t$ is an integer."
   ]
  },
  {
   "cell_type": "markdown",
   "metadata": {},
   "source": [
    "### The Agent"
   ]
  },
  {
   "cell_type": "markdown",
   "metadata": {},
   "source": [
    "The goal of the ```Agent``` is to interact with the ```Environment``` by proposing actions $a_t$ obtained from a given state $s_t$ to attempt to maximize its __reward__ $r(s_t,a_t)$. We propose the following abstract class:"
   ]
  },
  {
   "cell_type": "code",
   "execution_count": 3,
   "metadata": {},
   "outputs": [],
   "source": [
    "class Agent(object):\n",
    "    def __init__(self, epsilon=0.1, n_action=4):\n",
    "        self.epsilon = epsilon\n",
    "        self.n_action = n_action\n",
    "    \n",
    "    def set_epsilon(self,e):\n",
    "        self.epsilon = e\n",
    "\n",
    "    def act(self,s,train=True):\n",
    "        \"\"\" This function should return the next action to do:\n",
    "        an integer between 0 and 4 (not included) with a random exploration of epsilon\"\"\"\n",
    "        if train:\n",
    "            if np.random.rand() <= self.epsilon:\n",
    "                a = np.random.randint(0, self.n_action, size=1)[0]\n",
    "            else:\n",
    "                a = self.learned_act(s)\n",
    "        else: # in some cases, this can improve the performance.. remove it if poor performances\n",
    "            a = self.learned_act(s)\n",
    "\n",
    "        return a\n",
    "\n",
    "    def learned_act(self,s):\n",
    "        \"\"\" Act via the policy of the agent, from a given state s\n",
    "        it proposes an action a\"\"\"\n",
    "        pass\n",
    "\n",
    "    def reinforce(self, s, n_s, a, r, game_over_):\n",
    "        \"\"\" This function is the core of the learning algorithm. \n",
    "        It takes as an input the current state s_, the next state n_s_\n",
    "        the action a_ used to move from s_ to n_s_ and the reward r_.\n",
    "        \n",
    "        Its goal is to learn a policy.\n",
    "        \"\"\"\n",
    "        pass\n",
    "\n",
    "    def save(self):\n",
    "        \"\"\" This function returns basic stats if applicable: the\n",
    "        loss and/or the model\"\"\"\n",
    "        pass\n",
    "\n",
    "    def load(self):\n",
    "        \"\"\" This function allows to restore a model\"\"\"\n",
    "        pass"
   ]
  },
  {
   "cell_type": "markdown",
   "metadata": {},
   "source": [
    "***\n",
    "__Question 1__:\n",
    "Explain the function act. Why is ```epsilon``` essential?"
   ]
  },
  {
   "cell_type": "markdown",
   "metadata": {},
   "source": [
    "The function ```act``` uses the learned policy, except that with probability ```epsilon```, it chooses a random action. Setting a non zero ```epsilon``` allows the agent to explore new policies."
   ]
  },
  {
   "cell_type": "markdown",
   "metadata": {},
   "source": [
    "***\n",
    "### The Game"
   ]
  },
  {
   "cell_type": "markdown",
   "metadata": {},
   "source": [
    "The ```Agent``` and the ```Environment``` work in an interlaced way as in the following (take some time to understand this code as it is the core of the project)\n",
    "\n",
    "```python\n",
    "\n",
    "epoch = 300\n",
    "env = Environment()\n",
    "agent = Agent()\n",
    "\n",
    "\n",
    "# Number of won games\n",
    "score = 0\n",
    "loss = 0\n",
    "\n",
    "\n",
    "for e in range(epoch):\n",
    "    # At each epoch, we restart to a fresh game and get the initial state\n",
    "    state = env.reset()\n",
    "    # This assumes that the games will end\n",
    "    game_over = False\n",
    "\n",
    "    win = 0\n",
    "    lose = 0\n",
    "    \n",
    "    while not game_over:\n",
    "        # The agent performs an action\n",
    "        action = agent.act(state)\n",
    "\n",
    "        # Apply an action to the environment, get the next state, the reward\n",
    "        # and if the games end\n",
    "        prev_state = state\n",
    "        state, reward, game_over = env.act(action)\n",
    "\n",
    "        # Update the counters\n",
    "        if reward > 0:\n",
    "            win = win + reward\n",
    "        if reward < 0:\n",
    "            lose = lose -reward\n",
    "\n",
    "        # Apply the reinforcement strategy\n",
    "        loss = agent.reinforce(prev_state, state,  action, reward, game_over)\n",
    "\n",
    "    # Save as a mp4\n",
    "    if e % 10 == 0:\n",
    "        env.draw(e)\n",
    "\n",
    "    # Update stats\n",
    "    score += win-lose\n",
    "\n",
    "    print(\"Epoch {:03d}/{:03d} | Loss {:.4f} | Win/lose count {}/{} ({})\"\n",
    "          .format(e, epoch, loss, win, lose, win-lose))\n",
    "    agent.save()\n",
    "```"
   ]
  },
  {
   "cell_type": "markdown",
   "metadata": {},
   "source": [
    "# The game, *eat cheese*"
   ]
  },
  {
   "cell_type": "markdown",
   "metadata": {},
   "source": [
    "A rat runs on an island and tries to eat as much as possible. The island is subdivided into $N\\times N$ cells, in which there are cheese (+0.5) and poisonous cells (-1). The rat has a visibility of 2 cells (thus it can see $5^2$ cells). The rat is given a time $T$ to accumulate as much food as possible. It can perform 4 actions: going up, down, left, right. \n",
    "\n",
    "The goal is to code an agent to solve this task that will learn by trial and error. We propose the following environment:"
   ]
  },
  {
   "cell_type": "code",
   "execution_count": 4,
   "metadata": {},
   "outputs": [],
   "source": [
    "class Environment(object):\n",
    "    def __init__(self, grid_size=10, max_time=500, temperature=0.1):\n",
    "        grid_size = grid_size+4\n",
    "        self.grid_size = grid_size\n",
    "        self.max_time = max_time\n",
    "        self.temperature = temperature\n",
    "\n",
    "        #board on which one plays\n",
    "        self.board = np.zeros((grid_size,grid_size))\n",
    "        self.position = np.zeros((grid_size,grid_size))\n",
    "\n",
    "        # coordinate of the cat (rat?)\n",
    "        self.x = 0\n",
    "        self.y = 1\n",
    "\n",
    "        # self time\n",
    "        self.t = 0\n",
    "\n",
    "        self.scale=16\n",
    "\n",
    "        self.to_draw = np.zeros((max_time+2, grid_size*self.scale, grid_size*self.scale, 3))\n",
    "\n",
    "\n",
    "    def draw(self,e):\n",
    "        skvideo.io.vwrite(str(e) + '.mp4', self.to_draw)\n",
    "\n",
    "    def get_frame(self,t):\n",
    "        b = np.zeros((self.grid_size,self.grid_size,3))+128\n",
    "        b[self.board>0,0] = 256\n",
    "        b[self.board < 0, 2] = 256\n",
    "        b[self.x,self.y,:]=256 # rat in black?\n",
    "        b[-2:,:,:]=0\n",
    "        b[:,-2:,:]=0\n",
    "        b[:2,:,:]=0\n",
    "        b[:,:2,:]=0\n",
    "        # forbidden borders in white?\n",
    "        b =  cv2.resize(b, None, fx=self.scale, fy=self.scale, interpolation=cv2.INTER_NEAREST)\n",
    "\n",
    "        self.to_draw[t,:,:,:]=b\n",
    "\n",
    "\n",
    "    def act(self, action):\n",
    "        \"\"\"This function returns the new state, reward and decides if the\n",
    "        game ends.\"\"\"\n",
    "\n",
    "        self.get_frame(int(self.t))\n",
    "\n",
    "        self.position = np.zeros((self.grid_size, self.grid_size))\n",
    "\n",
    "        self.position[0:2,:]= -1\n",
    "        self.position[:,0:2] = -1\n",
    "        self.position[-2:, :] = -1\n",
    "        self.position[-2:, :] = -1\n",
    "\n",
    "        self.position[self.x, self.y] = 1\n",
    "        if action == 0:\n",
    "            if self.x == self.grid_size-3:\n",
    "                self.x = self.x-1\n",
    "            else:\n",
    "                self.x = self.x + 1\n",
    "        elif action == 1:\n",
    "            if self.x == 2:\n",
    "                self.x = self.x+1\n",
    "            else:\n",
    "                self.x = self.x-1\n",
    "        elif action == 2:\n",
    "            if self.y == self.grid_size - 3:\n",
    "                self.y = self.y - 1\n",
    "            else:\n",
    "                self.y = self.y + 1\n",
    "        elif action == 3:\n",
    "            if self.y == 2:\n",
    "                self.y = self.y + 1\n",
    "            else:\n",
    "                self.y = self.y - 1\n",
    "        else:\n",
    "            RuntimeError('Error: action not recognized')\n",
    "\n",
    "        self.t = self.t + 1\n",
    "        reward = self.board[self.x, self.y]\n",
    "        self.board[self.x, self.y] = 0\n",
    "        game_over = self.t > self.max_time\n",
    "        state = np.concatenate((self.board.reshape(self.grid_size, self.grid_size,1),\n",
    "                        self.position.reshape(self.grid_size, self.grid_size,1)),axis=2)\n",
    "        state = state[self.x-2:self.x+3,self.y-2:self.y+3,:]\n",
    "\n",
    "        return state, reward, game_over\n",
    "\n",
    "    def reset(self):\n",
    "        \"\"\"This function resets the game and returns the initial state\"\"\"\n",
    "\n",
    "        self.x = np.random.randint(3, self.grid_size-3, size=1)[0]\n",
    "        self.y = np.random.randint(3, self.grid_size-3, size=1)[0]\n",
    "\n",
    "\n",
    "        bonus = 0.5*np.random.binomial(1,self.temperature,size=self.grid_size**2) # in fact bernoulli\n",
    "        bonus = bonus.reshape(self.grid_size,self.grid_size)\n",
    "\n",
    "        malus = -1.0*np.random.binomial(1,self.temperature,size=self.grid_size**2)\n",
    "        malus = malus.reshape(self.grid_size, self.grid_size)\n",
    "\n",
    "        self.to_draw = np.zeros((self.max_time+2, self.grid_size*self.scale, self.grid_size*self.scale, 3))\n",
    "\n",
    "\n",
    "        malus[bonus>0]=0\n",
    "\n",
    "        self.board = bonus + malus\n",
    "\n",
    "        self.position = np.zeros((self.grid_size, self.grid_size))\n",
    "        self.position[0:2,:]= -1\n",
    "        self.position[:,0:2] = -1\n",
    "        self.position[-2:, :] = -1\n",
    "        self.position[-2:, :] = -1\n",
    "        self.board[self.x,self.y] = 0\n",
    "        self.t = 0\n",
    "\n",
    "        state = np.concatenate((\n",
    "                               self.board.reshape(self.grid_size, self.grid_size,1),\n",
    "                        self.position.reshape(self.grid_size, self.grid_size,1)),axis=2)\n",
    "\n",
    "        state = state[self.x - 2:self.x + 3, self.y - 2:self.y + 3, :]\n",
    "        return state"
   ]
  },
  {
   "cell_type": "markdown",
   "metadata": {},
   "source": [
    "The following elements are important because they correspond to the hyper parameters for this project:"
   ]
  },
  {
   "cell_type": "code",
   "execution_count": 5,
   "metadata": {},
   "outputs": [],
   "source": [
    "# parameters\n",
    "size = 13\n",
    "T=200\n",
    "temperature=0.3\n",
    "epochs_train=10 # set small when debugging\n",
    "epochs_test=3 # set small when debugging\n",
    "\n",
    "# display videos\n",
    "def display_videos(name):\n",
    "    video = io.open(name, 'r+b').read()\n",
    "    encoded = base64.b64encode(video)\n",
    "    return '''<video alt=\"test\" controls>\n",
    "                <source src=\"data:video/mp4;base64,{0}\" type=\"video/mp4\" />\n",
    "             </video>'''.format(encoded.decode('ascii'))"
   ]
  },
  {
   "cell_type": "markdown",
   "metadata": {},
   "source": [
    "__Question 2__ Explain the use of the arrays ```position``` and ```board```."
   ]
  },
  {
   "cell_type": "markdown",
   "metadata": {},
   "source": [
    "The array ```position``` stores the information about the current state of the agent and the impossible positions at the borders. The array ```board``` stores the information about the presence of cheese or poison. Only part of the information in ```position``` and ```board``` will be released to the agent, only in the nearby cells."
   ]
  },
  {
   "cell_type": "markdown",
   "metadata": {},
   "source": [
    "## Random Agent"
   ]
  },
  {
   "cell_type": "markdown",
   "metadata": {},
   "source": [
    "***\n",
    "__Question 3__ Implement a random Agent (only ```learned_act``` needs to be implemented):"
   ]
  },
  {
   "cell_type": "code",
   "execution_count": 6,
   "metadata": {},
   "outputs": [],
   "source": [
    "class RandomAgent(Agent):\n",
    "    def __init__(self):\n",
    "        super(RandomAgent, self).__init__()\n",
    "        pass\n",
    "\n",
    "    def learned_act(self, s):\n",
    "        return np.random.choice(4)"
   ]
  },
  {
   "cell_type": "markdown",
   "metadata": {},
   "source": [
    "***\n",
    "***\n",
    "__Question 4__ Visualize the game moves. You need to fill in the following function for the evaluation:"
   ]
  },
  {
   "cell_type": "code",
   "execution_count": 7,
   "metadata": {},
   "outputs": [],
   "source": [
    "def test(agent,env,epochs,prefix=''):\n",
    "    # Number of won games\n",
    "    score = 0\n",
    "        \n",
    "    for e in range(epochs):\n",
    "        \n",
    "        # At each epoch, we restart to a fresh game and get the initial state\n",
    "        state = env.reset()\n",
    "        # This assumes that the games will end\n",
    "        game_over = False\n",
    "\n",
    "        win = 0\n",
    "        lose = 0\n",
    "\n",
    "        while not game_over:\n",
    "            # The agent performs an action\n",
    "            action = agent.act(state)\n",
    "\n",
    "            # Apply an action to the environment, get the next state, the reward\n",
    "            # and if the games end\n",
    "            prev_state = state\n",
    "            state, reward, game_over = env.act(action)\n",
    "\n",
    "            # Update the counters\n",
    "            if reward > 0:\n",
    "                win = win + reward\n",
    "            if reward < 0:\n",
    "                lose = lose -reward\n",
    "\n",
    "            # Apply the reinforcement strategy: here we do not do anything\n",
    "            #loss = agent.reinforce(prev_state, state,  action, reward, game_over)\n",
    "\n",
    "        \n",
    "        ##### FILL IN HERE !!!!\n",
    "        \n",
    "        # Save as a mp4\n",
    "        env.draw(prefix+str(e))\n",
    "\n",
    "        # Update stats\n",
    "        score = score + win-lose\n",
    "\n",
    "        print(\"Win/lose count {}/{}. Average score ({})\"\n",
    "              .format(win, lose, score/(1+e)))\n",
    "    print('Final score: '+str(score/epochs))"
   ]
  },
  {
   "cell_type": "code",
   "execution_count": 8,
   "metadata": {},
   "outputs": [
    {
     "name": "stdout",
     "output_type": "stream",
     "text": [
      "Win/lose count 8.0/12.0. Average score (-4.0)\n",
      "Win/lose count 12.5/16.0. Average score (-3.75)\n",
      "Win/lose count 8.0/16.0. Average score (-5.166666666666667)\n",
      "Final score: -5.166666666666667\n"
     ]
    },
    {
     "data": {
      "text/html": [
       "<video alt=\"test\" controls>\n",
       "                <source src=\"data:video/mp4;base64,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\" type=\"video/mp4\" />\n",
       "             </video>"
      ],
      "text/plain": [
       "<IPython.core.display.HTML object>"
      ]
     },
     "execution_count": 8,
     "metadata": {},
     "output_type": "execute_result"
    }
   ],
   "source": [
    "# Initialize the game\n",
    "env = Environment(grid_size=size, max_time=T,temperature=temperature)\n",
    "\n",
    "# Initialize the agent!\n",
    "agent = RandomAgent()\n",
    "\n",
    "test(agent,env,epochs_test,prefix='random')\n",
    "HTML(display_videos('random0.mp4'))"
   ]
  },
  {
   "cell_type": "markdown",
   "metadata": {},
   "source": [
    "***\n",
    "## DQN"
   ]
  },
  {
   "cell_type": "markdown",
   "metadata": {},
   "source": [
    "Let us assume here that $T=\\infty$.\n",
    "\n",
    "***\n",
    "__Question 5__ Let $\\pi$ be a policy, show that:\n",
    "\n",
    "\\begin{equation*}\n",
    "Q^{\\pi}(s,a)=E_{(s',a')\\sim p(.|s,a)}[r(s,a)+\\gamma Q^{\\pi}(s',a')]\n",
    "\\end{equation*}\n",
    "\n",
    "Then, show that for the optimal policy $\\pi^*$ (we assume its existence), the following holds: \n",
    "\n",
    "\\begin{equation*}\n",
    "Q^{*}(s,a)=E_{s'\\sim \\pi^*(.|s,a)}[r(s,a)+\\gamma\\max_{a'}Q^{*}(s',a')].\n",
    "\\end{equation*}\n",
    "Finally, deduce that a plausible objective is:\n",
    "\n",
    "\\begin{equation*}\n",
    "\\mathcal{L}(\\theta)=E_{s' \\sim \\pi^*(.|s,a)}\\Vert r+\\gamma\\max_{a'}Q(s',a',\\theta)-Q(s,a,\\theta)\\Vert^{2}.\n",
    "\\end{equation*}\n",
    "\n",
    "\n"
   ]
  },
  {
   "cell_type": "markdown",
   "metadata": {},
   "source": [
    "(1) The $Q$-function is defined as: $Q^\\pi(s,a)=E_{p^{\\pi}}[\\sum_{t=0}^\\infty\\gamma^{t}r(s_{t},a_{t})|s_{0}=s,a_{0}=a]$. We get Bellman's equation by isolating the first term of the sum: $Q^\\pi(s,a)=E_{p^{\\pi}}[r(s, a) + \\gamma \\sum_{t=1}^\\infty\\gamma^{t-1}r(s_{t},a_{t})|s_{0}=s,a_{0}=a]$. The state and action at time $t=1$ are drawn according to $p^\\pi(.|s, a)$ and we conclude by a change of variable in the sum that $Q^\\pi(s,a)= r(s, a) + \\gamma E_{(s^\\prime, a^\\prime)\\sim p^\\pi(.|s,a)}[Q^\\pi(s^\\prime, a^\\prime)]$.\n",
    "\n",
    "(2) The optimal $Q$-function is: $Q^*(s,a)=\\max_{\\pi}Q^\\pi(s,a)$. Using the previous result, we can maximize it with respect to $\\pi$. This is equivalent to maximizing the second term with respect to $a^\\prime$, as it is the only variable controled by $\\pi$, and we get: $Q^*(s,a)= r(s,a) + \\gamma E_{(s^\\prime, a^\\prime)\\sim p^{\\pi^*}(.|s,a)} [\\max_{a^\\prime}Q^*(s^\\prime,a^\\prime)]$.\n",
    "\n",
    "(3) We want to find the optimal $Q$-function. To achieve this, we must move the $Q$-function towards satisfying the optimal Bellman equation. Hence we minimize the distance between the two terms and hope that we will find the fixed point $Q^*$ that way."
   ]
  },
  {
   "cell_type": "markdown",
   "metadata": {},
   "source": [
    "***\n",
    "The DQN-learning algorithm relies on these derivations to train the parameters $\\theta$ of a Deep Neural Network:\n",
    "\n",
    "1. At the state $s_t$, select the action $a_t$ with best reward using $Q_t$ and store the results;\n",
    "\n",
    "2. Obtain the new state $s_{t+1}$ from the environment $p$;\n",
    "\n",
    "3. Store $(s_t,a_t,s_{t+1})$;\n",
    "\n",
    "4. Obtain $Q_{t+1}$ by minimizing  $\\mathcal{L}$ from a recovered batch from the previously stored results.\n",
    "\n",
    "***\n",
    "__Question 6__ Implement the class ```Memory``` that stores moves (in a replay buffer) via ```remember``` and provides a ```random_access``` to these. Specify a maximum memory size to avoid side effects. You can for example use a ```list()``` and set by default ```max_memory=100```."
   ]
  },
  {
   "cell_type": "code",
   "execution_count": 9,
   "metadata": {},
   "outputs": [],
   "source": [
    "import random\n",
    "\n",
    "class Memory(object):\n",
    "    def __init__(self, max_memory=100):\n",
    "        self.max_memory = max_memory\n",
    "        self.memory = list()\n",
    "\n",
    "    def remember(self, m):\n",
    "        if len(self.memory)>=self.max_memory:\n",
    "            _ = self.memory.pop()\n",
    "        self.memory.append(m)\n",
    "\n",
    "    def random_access(self):\n",
    "        return random.choice(self.memory)"
   ]
  },
  {
   "cell_type": "markdown",
   "metadata": {},
   "source": [
    "***\n",
    "The pipeline we will use for training is given below:"
   ]
  },
  {
   "cell_type": "code",
   "execution_count": 10,
   "metadata": {},
   "outputs": [],
   "source": [
    "def train(agent,env,epoch,prefix=''):\n",
    "    # Number of won games\n",
    "    score = 0\n",
    "    loss = 0\n",
    "\n",
    "    for e in range(epoch):\n",
    "        # At each epoch, we restart to a fresh game and get the initial state\n",
    "        state = env.reset()\n",
    "        # This assumes that the games will terminate\n",
    "        game_over = False\n",
    "\n",
    "        win = 0\n",
    "        lose = 0\n",
    "\n",
    "        while not game_over:\n",
    "            # The agent performs an action\n",
    "            action = agent.act(state)\n",
    "\n",
    "            # Apply an action to the environment, get the next state, the reward\n",
    "            # and if the games end\n",
    "            prev_state = state\n",
    "            state, reward, game_over = env.act(action)\n",
    "\n",
    "            # Update the counters\n",
    "            if reward > 0:\n",
    "                win = win + reward\n",
    "            if reward < 0:\n",
    "                lose = lose -reward\n",
    "\n",
    "            # Apply the reinforcement strategy\n",
    "            loss = agent.reinforce(prev_state, state,  action, reward, game_over)\n",
    "\n",
    "        # Save as a mp4\n",
    "        if e % 10 == 0:\n",
    "            env.draw(prefix+str(e))\n",
    "\n",
    "        # Update stats\n",
    "        score += win-lose\n",
    "\n",
    "        print(\"Epoch {:03d}/{:03d} | Loss {:.4f} | Win/lose count {}/{} ({})\"\n",
    "              .format(e, epoch, loss, win, lose, win-lose))\n",
    "        agent.save(name_weights=prefix+'model.h5',name_model=prefix+'model.json')"
   ]
  },
  {
   "cell_type": "markdown",
   "metadata": {},
   "source": [
    "***\n",
    "__Question 7__ Implement the DQN training algorithm using a cascade of fully connected layers. You can use different learning rate, batch size or memory size parameters. In particular, the loss might oscillate while the player will start to win the games. You have to find a good criterion."
   ]
  },
  {
   "cell_type": "markdown",
   "metadata": {},
   "source": [
    "*Another question you might ask is why did I say that the input of the neural net is simply a state? Doesn’t Q(s, a) take both a state and an action as an input? Well, there are two ways to approach this. One is to pass the action in as an input, and the other is to have one output per action (which is possible because we have relatively few actions). The latter option is much faster, as clearly explained by the DeepMind paper:*\n",
    "\n",
    "*The main drawback of [passing the action as an input] is that a separate forward pass is required to compute the Q-value of each action, resulting in a cost that scales linearly with the number of actions. We instead use an architecture in which there is a separate output unit for each possible action, and only the state representation is an input to the neural network. The outputs correspond to the predicted Q-values of the individual action for the input state. The main advantage of this type of architecture is the ability to compute Q-values for all possible actions in a given state with only a single forward pass through the network.*"
   ]
  },
  {
   "cell_type": "code",
   "execution_count": 65,
   "metadata": {},
   "outputs": [],
   "source": [
    "class DQN(Agent):\n",
    "    def __init__(self, grid_size,  epsilon = 0.1, memory_size=100, batch_size = 16,n_state=2):\n",
    "        super(DQN, self).__init__(epsilon = epsilon)\n",
    "\n",
    "        # Discount for Q learning\n",
    "        self.discount = 0.99\n",
    "        \n",
    "        self.grid_size = grid_size\n",
    "        \n",
    "        # number of state\n",
    "        self.n_state = n_state # each state is 5x5x2\n",
    "\n",
    "        # Memory\n",
    "        self.memory = Memory(memory_size)\n",
    "        \n",
    "        # Batch size when learning\n",
    "        self.batch_size = batch_size\n",
    "\n",
    "    def learned_act(self, s):\n",
    "        # we only use V functions?\n",
    "        return np.argmax(self.model.predict(s[None]))\n",
    "\n",
    "    def reinforce(self, s_, n_s_, a_, r_, game_over_):\n",
    "        # Two steps: first memorize the states, second learn from the pool\n",
    "\n",
    "        self.memory.remember([s_, n_s_, a_, r_, game_over_])\n",
    "        \n",
    "        input_states = np.zeros((self.batch_size, 5,5,self.n_state))\n",
    "        target_q = np.zeros((self.batch_size, 4))\n",
    "        \n",
    "        for i in range(self.batch_size):\n",
    "            ######## FILL IN\n",
    "            s_, n_s_, a_, r_, game_over_ = self.memory.random_access()\n",
    "            input_states[i] = s_\n",
    "            if game_over_:\n",
    "                Qf = np.zeros(4)\n",
    "            else:\n",
    "                Qf = self.model.predict(n_s_[None])[0]\n",
    "            #print(Qf)\n",
    "            target_q[i][a_] = r_ + self.discount * np.max(Qf) # size 4 ??\n",
    "            #print(np.max(Qf))\n",
    "                \n",
    "        ######## FILL IN target q and input states\n",
    "        # HINT: Clip the target to avoid exploding gradients.. -- clipping is a bit tighter\n",
    "        target_q = np.clip(target_q, -3, 3)\n",
    "\n",
    "        #print(input_states.shape, target_q.shape)\n",
    "        l = self.model.train_on_batch(input_states, target_q)\n",
    "\n",
    "        return l\n",
    "\n",
    "    def save(self,name_weights='model.h5',name_model='model.json'):\n",
    "        self.model.save_weights(name_weights, overwrite=True)\n",
    "        with open(name_model, \"w\") as outfile:\n",
    "            json.dump(self.model.to_json(), outfile)\n",
    "            \n",
    "    def load(self,name_weights='model.h5',name_model='model.json'):\n",
    "        with open(name_model, \"r\") as jfile:\n",
    "            model = model_from_json(json.load(jfile))\n",
    "        model.load_weights(name_weights)\n",
    "        model.compile(\"sgd\", \"mse\")\n",
    "        self.model = model\n",
    "\n",
    "            \n",
    "class DQN_FC(DQN):\n",
    "    def __init__(self, *args, lr=0.1,**kwargs):\n",
    "        super(DQN_FC, self).__init__( *args,**kwargs)\n",
    "        \n",
    "        # NN Model\n",
    "        \n",
    "        ####### FILL IN\n",
    "        model = Sequential()\n",
    "        model.add(Dense(64, input_shape = (5, 5, 2), activation = 'relu'))\n",
    "        model.add(Flatten())\n",
    "        model.add(Dense(32, activation = 'relu'))\n",
    "        model.add(Dense(4, activation = 'softmax'))\n",
    "        \n",
    "        model.compile(sgd(lr=lr, decay=1e-4, momentum=0.0), \"mse\")\n",
    "        self.model = model\n",
    "        "
   ]
  },
  {
   "cell_type": "code",
   "execution_count": 66,
   "metadata": {
    "scrolled": true
   },
   "outputs": [
    {
     "name": "stdout",
     "output_type": "stream",
     "text": [
      "Epoch 000/021 | Loss 0.0335 | Win/lose count 1.5/7.0 (-5.5)\n",
      "Epoch 001/021 | Loss 0.0252 | Win/lose count 1.0/5.0 (-4.0)\n",
      "Epoch 002/021 | Loss 0.0224 | Win/lose count 3.5/3.0 (0.5)\n",
      "Epoch 003/021 | Loss 0.0298 | Win/lose count 0.5/2.0 (-1.5)\n",
      "Epoch 004/021 | Loss 0.0403 | Win/lose count 2.5/1.0 (1.5)\n",
      "Epoch 005/021 | Loss 0.0248 | Win/lose count 2.0/3.0 (-1.0)\n",
      "Epoch 006/021 | Loss 0.0175 | Win/lose count 1.5/0 (1.5)\n",
      "Epoch 007/021 | Loss 0.0255 | Win/lose count 0.5/4.0 (-3.5)\n",
      "Epoch 008/021 | Loss 0.0170 | Win/lose count 2.5/4.0 (-1.5)\n",
      "Epoch 009/021 | Loss 0.0296 | Win/lose count 2.5/2.0 (0.5)\n",
      "Epoch 010/021 | Loss 0.0171 | Win/lose count 2.0/0 (2.0)\n",
      "Epoch 011/021 | Loss 0.0242 | Win/lose count 1.5/2.0 (-0.5)\n",
      "Epoch 012/021 | Loss 0.0155 | Win/lose count 5.0/2.0 (3.0)\n",
      "Epoch 013/021 | Loss 0.0338 | Win/lose count 2.5/3.0 (-0.5)\n",
      "Epoch 014/021 | Loss 0.0135 | Win/lose count 3.0/2.0 (1.0)\n",
      "Epoch 015/021 | Loss 0.0220 | Win/lose count 4.5/3.0 (1.5)\n",
      "Epoch 016/021 | Loss 0.0190 | Win/lose count 3.5/3.0 (0.5)\n",
      "Epoch 017/021 | Loss 0.0384 | Win/lose count 2.5/3.0 (-0.5)\n",
      "Epoch 018/021 | Loss 0.0117 | Win/lose count 2.5/4.0 (-1.5)\n",
      "Epoch 019/021 | Loss 0.0224 | Win/lose count 6.0/5.0 (1.0)\n",
      "Epoch 020/021 | Loss 0.0289 | Win/lose count 3.5/4.0 (-0.5)\n"
     ]
    },
    {
     "data": {
      "text/html": [
       "<video alt=\"test\" controls>\n",
       "                <source src=\"data:video/mp4;base64,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\" type=\"video/mp4\" />\n",
       "             </video>"
      ],
      "text/plain": [
       "<IPython.core.display.HTML object>"
      ]
     },
     "execution_count": 66,
     "metadata": {},
     "output_type": "execute_result"
    }
   ],
   "source": [
    "epochs_train = 21\n",
    "\n",
    "env = Environment(grid_size=size, max_time=T, temperature=0.3)\n",
    "agent = DQN_FC(size, lr=.1, epsilon = 0.1, memory_size=500, batch_size = 32) #lr 0.01 mem 2000 bs 32\n",
    "train(agent, env, epochs_train, prefix='fc_train')\n",
    "HTML(display_videos('fc_train20.mp4'))"
   ]
  },
  {
   "cell_type": "markdown",
   "metadata": {},
   "source": [
    "***\n",
    "***\n",
    "__Question 8__ Implement the DQN training algorithm using a CNN (for example, 2 convolutional layers and one final fully connected layer)."
   ]
  },
  {
   "cell_type": "code",
   "execution_count": 68,
   "metadata": {},
   "outputs": [],
   "source": [
    "class DQN_CNN(DQN):\n",
    "    def __init__(self, *args,lr=0.1,**kwargs):\n",
    "        super(DQN_CNN, self).__init__(*args,**kwargs)\n",
    "        \n",
    "        ###### FILL IN\n",
    "        \n",
    "        model = Sequential()\n",
    "        #model.add(Reshape((5, 5), input_shape = (5, 5, 2)))\n",
    "        model.add(Conv2D(32, (3, 3), input_shape = (5, 5, 2), activation = 'relu')) # channels last\n",
    "        model.add(Conv2D(16, (2, 2), activation = 'relu'))\n",
    "        \n",
    "        model.add(Flatten())\n",
    "        model.add(Dense(32, activation = 'relu'))\n",
    "        model.add(Dense(4, activation = 'softmax'))\n",
    "        \n",
    "        \n",
    "        # Conv2D, MaxPooling2D, Activation, AveragePooling2D,Reshape,BatchNormalization\n",
    "        model.compile(sgd(lr=lr, momentum=0.0, decay=1e-4), \"mse\") # \n",
    "        self.model = model"
   ]
  },
  {
   "cell_type": "code",
   "execution_count": 58,
   "metadata": {
    "scrolled": true
   },
   "outputs": [
    {
     "name": "stdout",
     "output_type": "stream",
     "text": [
      "Epoch 000/051 | Loss 0.0473 | Win/lose count 4.0/5.0 (-1.0)\n",
      "Epoch 001/051 | Loss 0.0370 | Win/lose count 3.0/2.0 (1.0)\n",
      "Epoch 002/051 | Loss 0.0373 | Win/lose count 3.5/2.0 (1.5)\n",
      "Epoch 003/051 | Loss 0.0470 | Win/lose count 2.0/4.0 (-2.0)\n",
      "Epoch 004/051 | Loss 0.0208 | Win/lose count 2.5/4.0 (-1.5)\n",
      "Epoch 005/051 | Loss 0.0537 | Win/lose count 2.0/2.0 (0.0)\n",
      "Epoch 006/051 | Loss 0.0369 | Win/lose count 1.5/1.0 (0.5)\n",
      "Epoch 007/051 | Loss 0.0228 | Win/lose count 6.0/4.0 (2.0)\n",
      "Epoch 008/051 | Loss 0.0405 | Win/lose count 2.5/2.0 (0.5)\n",
      "Epoch 009/051 | Loss 0.0293 | Win/lose count 2.5/2.0 (0.5)\n",
      "Epoch 010/051 | Loss 0.0349 | Win/lose count 4.5/4.0 (0.5)\n",
      "Epoch 011/051 | Loss 0.0346 | Win/lose count 0.5/2.0 (-1.5)\n",
      "Epoch 012/051 | Loss 0.0392 | Win/lose count 2.0/3.0 (-1.0)\n",
      "Epoch 013/051 | Loss 0.0433 | Win/lose count 1.0/4.0 (-3.0)\n",
      "Epoch 014/051 | Loss 0.0290 | Win/lose count 2.0/1.0 (1.0)\n",
      "Epoch 015/051 | Loss 0.0265 | Win/lose count 4.0/5.0 (-1.0)\n",
      "Epoch 016/051 | Loss 0.0177 | Win/lose count 3.5/2.0 (1.5)\n",
      "Epoch 017/051 | Loss 0.0540 | Win/lose count 3.0/0 (3.0)\n",
      "Epoch 018/051 | Loss 0.0429 | Win/lose count 2.0/4.0 (-2.0)\n",
      "Epoch 019/051 | Loss 0.0417 | Win/lose count 3.0/2.0 (1.0)\n",
      "Epoch 020/051 | Loss 0.0237 | Win/lose count 3.5/7.0 (-3.5)\n",
      "Epoch 021/051 | Loss 0.0284 | Win/lose count 2.0/1.0 (1.0)\n",
      "Epoch 022/051 | Loss 0.0268 | Win/lose count 2.5/1.0 (1.5)\n",
      "Epoch 023/051 | Loss 0.0365 | Win/lose count 2.0/2.0 (0.0)\n",
      "Epoch 024/051 | Loss 0.0433 | Win/lose count 4.0/3.0 (1.0)\n",
      "Epoch 025/051 | Loss 0.0321 | Win/lose count 2.5/2.0 (0.5)\n",
      "Epoch 026/051 | Loss 0.0369 | Win/lose count 0/5.0 (-5.0)\n",
      "Epoch 027/051 | Loss 0.0274 | Win/lose count 0.5/2.0 (-1.5)\n",
      "Epoch 028/051 | Loss 0.0257 | Win/lose count 3.5/1.0 (2.5)\n",
      "Epoch 029/051 | Loss 0.0405 | Win/lose count 1.5/4.0 (-2.5)\n",
      "Epoch 030/051 | Loss 0.0330 | Win/lose count 3.5/6.0 (-2.5)\n",
      "Epoch 031/051 | Loss 0.0319 | Win/lose count 3.0/4.0 (-1.0)\n",
      "Epoch 032/051 | Loss 0.0217 | Win/lose count 2.0/6.0 (-4.0)\n",
      "Epoch 033/051 | Loss 0.0218 | Win/lose count 1.5/6.0 (-4.5)\n",
      "Epoch 034/051 | Loss 0.0379 | Win/lose count 2.0/1.0 (1.0)\n",
      "Epoch 035/051 | Loss 0.0170 | Win/lose count 0.5/0 (0.5)\n",
      "Epoch 036/051 | Loss 0.0367 | Win/lose count 3.0/3.0 (0.0)\n",
      "Epoch 037/051 | Loss 0.0321 | Win/lose count 3.0/3.0 (0.0)\n",
      "Epoch 038/051 | Loss 0.0276 | Win/lose count 2.5/1.0 (1.5)\n",
      "Epoch 039/051 | Loss 0.0230 | Win/lose count 2.0/2.0 (0.0)\n",
      "Epoch 040/051 | Loss 0.0227 | Win/lose count 3.0/2.0 (1.0)\n",
      "Epoch 041/051 | Loss 0.0382 | Win/lose count 2.5/2.0 (0.5)\n",
      "Epoch 042/051 | Loss 0.0499 | Win/lose count 2.5/0 (2.5)\n",
      "Epoch 043/051 | Loss 0.0427 | Win/lose count 5.0/3.0 (2.0)\n",
      "Epoch 044/051 | Loss 0.0436 | Win/lose count 3.0/2.0 (1.0)\n",
      "Epoch 045/051 | Loss 0.0342 | Win/lose count 2.0/3.0 (-1.0)\n",
      "Epoch 046/051 | Loss 0.0241 | Win/lose count 1.5/2.0 (-0.5)\n",
      "Epoch 047/051 | Loss 0.0391 | Win/lose count 0/4.0 (-4.0)\n",
      "Epoch 048/051 | Loss 0.0455 | Win/lose count 4.0/0 (4.0)\n",
      "Epoch 049/051 | Loss 0.0144 | Win/lose count 3.0/2.0 (1.0)\n",
      "Epoch 050/051 | Loss 0.0226 | Win/lose count 3.0/0 (3.0)\n"
     ]
    },
    {
     "data": {
      "text/html": [
       "<video alt=\"test\" controls>\n",
       "                <source src=\"data:video/mp4;base64,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\" type=\"video/mp4\" />\n",
       "             </video>"
      ],
      "text/plain": [
       "<IPython.core.display.HTML object>"
      ]
     },
     "execution_count": 58,
     "metadata": {},
     "output_type": "execute_result"
    }
   ],
   "source": [
    "epochs_train = 51\n",
    "env = Environment(grid_size=size, max_time=T, temperature=0.3)\n",
    "agent = DQN_CNN(size, lr=1e-1, epsilon = 0.1, memory_size=500, batch_size = 32)\n",
    "train(agent,env,epochs_train,prefix='cnn_train')\n",
    "HTML(display_videos('cnn_train50.mp4'))"
   ]
  },
  {
   "cell_type": "markdown",
   "metadata": {},
   "source": [
    "***\n",
    "***\n",
    "__Question 9__ Test both algorithms and compare their performances. Which issue(s) do you observe? Observe also different behaviors by changing the temperature."
   ]
  },
  {
   "cell_type": "code",
   "execution_count": 72,
   "metadata": {},
   "outputs": [
    {
     "name": "stdout",
     "output_type": "stream",
     "text": [
      "Test of the CNN\n",
      "Win/lose count 1.5/1.0. Average score (0.5)\n",
      "Win/lose count 1.0/0. Average score (0.75)\n",
      "Win/lose count 1.5/2.0. Average score (0.3333333333333333)\n",
      "Win/lose count 1.0/2.0. Average score (0.0)\n",
      "Win/lose count 0/0. Average score (0.0)\n",
      "Win/lose count 1.5/1.0. Average score (0.08333333333333333)\n",
      "Win/lose count 1.0/1.0. Average score (0.07142857142857142)\n",
      "Win/lose count 0/1.0. Average score (-0.0625)\n",
      "Win/lose count 1.0/1.0. Average score (-0.05555555555555555)\n",
      "Win/lose count 0.5/2.0. Average score (-0.2)\n",
      "Win/lose count 1.5/1.0. Average score (-0.13636363636363635)\n",
      "Final score: -0.13636363636363635\n",
      "Test of the FC\n",
      "Win/lose count 0.5/2.0. Average score (-1.5)\n",
      "Win/lose count 1.0/2.0. Average score (-1.25)\n",
      "Win/lose count 0/2.0. Average score (-1.5)\n",
      "Win/lose count 1.5/0. Average score (-0.75)\n",
      "Win/lose count 0.5/3.0. Average score (-1.1)\n",
      "Win/lose count 0/0. Average score (-0.9166666666666666)\n",
      "Win/lose count 3.0/0. Average score (-0.35714285714285715)\n",
      "Win/lose count 0/0. Average score (-0.3125)\n",
      "Win/lose count 0.5/1.0. Average score (-0.3333333333333333)\n",
      "Win/lose count 0.5/1.0. Average score (-0.35)\n",
      "Win/lose count 0/1.0. Average score (-0.4090909090909091)\n",
      "Final score: -0.4090909090909091\n"
     ]
    }
   ],
   "source": [
    "epochs_test = 11\n",
    "\n",
    "env = Environment(grid_size=size, max_time=T,temperature=0.1) # 0.3\n",
    "agent_cnn = DQN_CNN(size, lr=.1, epsilon = 0.1, memory_size=2000, batch_size = 32)\n",
    "agent_cnn.load(name_weights='cnn_trainmodel.h5',name_model='cnn_trainmodel.json')\n",
    "\n",
    "agent_fc = DQN_FC(size, lr=.1, epsilon = 0.1, memory_size=2000, batch_size = 32)\n",
    "agent_cnn.load(name_weights='fc_trainmodel.h5',name_model='fc_trainmodel.json')\n",
    "print('Test of the CNN')\n",
    "test(agent_cnn,env,epochs_test,prefix='cnn_test')\n",
    "print('Test of the FC')\n",
    "test(agent_fc,env,epochs_test,prefix='fc_test')"
   ]
  },
  {
   "cell_type": "code",
   "execution_count": 73,
   "metadata": {},
   "outputs": [
    {
     "data": {
      "text/html": [
       "<video alt=\"test\" controls>\n",
       "                <source src=\"data:video/mp4;base64,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\" type=\"video/mp4\" />\n",
       "             </video>"
      ],
      "text/plain": [
       "<IPython.core.display.HTML object>"
      ]
     },
     "execution_count": 73,
     "metadata": {},
     "output_type": "execute_result"
    }
   ],
   "source": [
    "HTML(display_videos('cnn_test10.mp4'))"
   ]
  },
  {
   "cell_type": "code",
   "execution_count": 74,
   "metadata": {},
   "outputs": [
    {
     "data": {
      "text/html": [
       "<video alt=\"test\" controls>\n",
       "                <source src=\"data:video/mp4;base64,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\" type=\"video/mp4\" />\n",
       "             </video>"
      ],
      "text/plain": [
       "<IPython.core.display.HTML object>"
      ]
     },
     "execution_count": 74,
     "metadata": {},
     "output_type": "execute_result"
    }
   ],
   "source": [
    "HTML(display_videos('fc_test10.mp4'))"
   ]
  },
  {
   "cell_type": "markdown",
   "metadata": {},
   "source": [
    "Usually, the agents tend to avoid the blue squares, but they do not explore the board. Instead, they keep a conservative policy that makes loops around itself. The convnet always achieves better results than the fully connected network."
   ]
  },
  {
   "cell_type": "markdown",
   "metadata": {},
   "source": [
    "***\n",
    "\n",
    "The algorithm tends to not explore the map which can be an issue. We propose two ideas in order to encourage exploration:\n",
    "1. Incorporating a decreasing $\\epsilon$-greedy exploration. You can use the method ```set_epsilon```\n",
    "2. Append via the environment a new state that describes if a cell has been visited or not\n",
    "\n",
    "***\n",
    "__Question 10__ Design a new ```train_explore``` function and environment class ```EnvironmentExploring``` to tackle the issue of exploration.\n",
    "\n"
   ]
  },
  {
   "cell_type": "code",
   "execution_count": null,
   "metadata": {
    "collapsed": true
   },
   "outputs": [],
   "source": [
    "def train_explore(agent,env,epoch,prefix=''):\n",
    "    pass\n",
    "        \n",
    "class EnvironmentExploring(object):\n",
    "    def __init__(self, grid_size=10, max_time=500, temperature=0.1):\n",
    "        pass\n",
    "    \n",
    "## use those samples of code:\n",
    "#In train explore:\n",
    "state, reward, game_over = env.act(action, train=True)\n",
    "\n",
    "## In Environment exploring:\n",
    "# You will have to change n_state to 3 because you will use one more layer!\n",
    "reward = 0\n",
    "if train:\n",
    "    reward = -self.malus_position[self.x, self.y]\n",
    "self.malus_position[self.x, self.y] = 0.1\n",
    "\n",
    "reward = reward + self.board[self.x, self.y]\n",
    "# 3 \"feature\" states instead of 2\n",
    "state = np.concatenate((self.malus_position.reshape(self.grid_size, self.grid_size,1),\n",
    "                                self.board.reshape(self.grid_size, self.grid_size,1),\n",
    "                        self.position.reshape(self.grid_size, self.grid_size,1)),axis=2)"
   ]
  },
  {
   "cell_type": "code",
   "execution_count": null,
   "metadata": {
    "collapsed": true
   },
   "outputs": [],
   "source": [
    "# Training\n",
    "env = EnvironmentExploring(grid_size=size, max_time=T, temperature=0.3)\n",
    "agent = DQN_CNN(size, lr=.1, epsilon = 0.1, memory_size=2000, batch_size = 32,n_state=3)\n",
    "train_explore(agent, env, epochs_train, prefix='cnn_train_explore')\n",
    "HTML(display_videos('cnn_train_explore10.mp4'))"
   ]
  },
  {
   "cell_type": "code",
   "execution_count": null,
   "metadata": {
    "collapsed": true
   },
   "outputs": [],
   "source": [
    "# Evaluation\n",
    "test(agent,env,epochs_test,prefix='cnn_test_explore')\n",
    "HTML(display_videos('cnn_test_explore10.mp4'))"
   ]
  },
  {
   "cell_type": "markdown",
   "metadata": {},
   "source": [
    "***\n",
    "***\n",
    "__BONUS question__ Use the expert DQN from the previous question to generate some winning games. Train a model that mimicks its behavior. Compare the performances."
   ]
  },
  {
   "cell_type": "markdown",
   "metadata": {},
   "source": []
  },
  {
   "cell_type": "markdown",
   "metadata": {},
   "source": [
    "***"
   ]
  }
 ],
 "metadata": {
  "kernelspec": {
   "display_name": "Python 3",
   "language": "python",
   "name": "python3"
  },
  "language_info": {
   "codemirror_mode": {
    "name": "ipython",
    "version": 3
   },
   "file_extension": ".py",
   "mimetype": "text/x-python",
   "name": "python",
   "nbconvert_exporter": "python",
   "pygments_lexer": "ipython3",
   "version": "3.7.0"
  }
 },
 "nbformat": 4,
 "nbformat_minor": 2
}
