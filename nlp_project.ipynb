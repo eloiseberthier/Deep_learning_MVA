{
 "cells": [
  {
   "cell_type": "markdown",
   "metadata": {},
   "source": [
    "# Deep Learning for NLP - Project"
   ]
  },
  {
   "cell_type": "markdown",
   "metadata": {},
   "source": [
    "RULES:\n",
    "\n",
    "* Do not create any additional cell\n",
    "\n",
    "* Fill in the blanks\n",
    "\n",
    "* All cells should be runnable (modulo trivial compatibility bugs that we'd fix)\n",
    "\n",
    "* 4 / 20 points will be allocated to the clarity of your code\n",
    "\n",
    "* Efficient code will have a bonus\n",
    "\n",
    "DELIVERABLE:\n",
    "\n",
    "* this notebook\n",
    "* the predictions of the SST test set\n",
    "\n",
    "DO NOT INCLUDE THE DATASETS IN THE DELIVERABLE.."
   ]
  },
  {
   "cell_type": "code",
   "execution_count": 212,
   "metadata": {},
   "outputs": [],
   "source": [
    "import io\n",
    "import os\n",
    "import numpy as np\n",
    "import scipy"
   ]
  },
  {
   "cell_type": "code",
   "execution_count": 213,
   "metadata": {},
   "outputs": [],
   "source": [
    "PATH_TO_DATA = \"./data/\""
   ]
  },
  {
   "cell_type": "markdown",
   "metadata": {},
   "source": [
    "# 1) Monolingual (English) word embeddings "
   ]
  },
  {
   "cell_type": "code",
   "execution_count": 3,
   "metadata": {},
   "outputs": [],
   "source": [
    "class Word2vec():\n",
    "    def __init__(self, fname, nmax=100000):\n",
    "        self.load_wordvec(fname, nmax)\n",
    "        self.word2id = dict.fromkeys(self.word2vec.keys())\n",
    "        self.id2word = {v: k for k, v in self.word2id.items()}\n",
    "        self.embeddings = np.array(self.word2vec.values())\n",
    "    \n",
    "    def load_wordvec(self, fname, nmax):\n",
    "        self.word2vec = {}\n",
    "        with io.open(fname, encoding='utf-8') as f:\n",
    "            next(f)\n",
    "            for i, line in enumerate(f):\n",
    "                word, vec = line.split(' ', 1)\n",
    "                self.word2vec[word] = np.fromstring(vec, sep=' ')\n",
    "                if i == (nmax - 1):\n",
    "                    break\n",
    "        print('Loaded %s pretrained word vectors' % (len(self.word2vec)))\n",
    "\n",
    "    def most_similar(self, w, K=5):\n",
    "        # K most similar words: self.score  -  np.argsort\n",
    "        lk = list(self.word2vec.keys())\n",
    "        ls = [-1. * self.score(wc, w) for wc in lk]\n",
    "        args = np.argsort(ls)[:K]\n",
    "        words = [lk[a] for a in args]\n",
    "        lk = []\n",
    "        return words\n",
    "\n",
    "    def score(self, w1, w2):\n",
    "        # cosine similarity: np.dot  -  np.linalg.norm\n",
    "        vw1, vw2 = self.word2vec[w1], self.word2vec[w2]\n",
    "        return np.dot(vw1, vw2) / (np.linalg.norm(vw1)*np.linalg.norm(vw2))\n"
   ]
  },
  {
   "cell_type": "code",
   "execution_count": 69,
   "metadata": {},
   "outputs": [
    {
     "name": "stdout",
     "output_type": "stream",
     "text": [
      "Loaded 100000 pretrained word vectors\n",
      "cat dog 0.6716836662792491\n",
      "dog pet 0.6842064029669219\n",
      "dogs cats 0.7074389328052404\n",
      "paris france 0.7775108541288561\n",
      "germany berlin 0.7420295235998392\n",
      "['cat', 'cats', 'kitty', 'kitten', 'feline']\n",
      "['dog', 'dogs', 'puppy', 'Dog', 'doggie']\n",
      "['dogs', 'dog', 'pooches', 'Dogs', 'doggies']\n",
      "['paris', 'france', 'Paris', 'london', 'berlin']\n",
      "['germany', 'austria', 'europe', 'german', 'berlin']\n"
     ]
    }
   ],
   "source": [
    "w2v = Word2vec(os.path.join(PATH_TO_DATA, 'crawl-300d-2M.vec'), nmax=100000) #25000\n",
    "# You will be evaluated on the output of the following:\n",
    "for w1, w2 in zip(('cat', 'dog', 'dogs', 'paris', 'germany'), ('dog', 'pet', 'cats', 'france', 'berlin')):\n",
    "    print(w1, w2, w2v.score(w1, w2))\n",
    "for w1 in ['cat', 'dog', 'dogs', 'paris', 'germany']:\n",
    "    print(w2v.most_similar(w1))"
   ]
  },
  {
   "cell_type": "code",
   "execution_count": 4,
   "metadata": {},
   "outputs": [],
   "source": [
    "class BoV():\n",
    "    def __init__(self, w2v):\n",
    "        self.w2v = w2v\n",
    "    \n",
    "    def encode(self, sentences, idf=False):\n",
    "        # takes a list of sentences, outputs a numpy array of sentence embeddings\n",
    "        # see TP1 for help\n",
    "        sentemb = []\n",
    "        for sent in sentences:\n",
    "            if idf is False:\n",
    "                # mean of word vectors -> list\n",
    "                try:\n",
    "                    emb = np.average([self.w2v.word2vec[w] for w in set(sent) if w in self.w2v.word2vec],\n",
    "                                     weights = [1. for w in set(sent) if w in self.w2v.word2vec], axis = 0)\n",
    "                except Exception:\n",
    "                    emb = np.zeros(300)\n",
    "            else:\n",
    "                # idf-weighted mean of word vectors\n",
    "                try:\n",
    "                    emb = np.average([self.w2v.word2vec[w] for w in set(sent) if w in self.w2v.word2vec],\n",
    "                                 weights = [idf[w] for w in set(sent) if w in self.w2v.word2vec], axis = 0)\n",
    "                except Exception:\n",
    "                    emb = np.zeros(300)\n",
    "            sentemb.append(emb)\n",
    "        return np.vstack(sentemb)\n",
    "\n",
    "    def most_similar(self, s, sentences, idf=False, K=5):\n",
    "        # get most similar sentences and **print** them\n",
    "        keys = self.encode(sentences, idf)\n",
    "        query = self.encode([s], idf)[0]\n",
    "        ls = []\n",
    "        for i in range(len(sentences)):\n",
    "            ls.append(-1. * self.score(query, keys[i], encoded = True))\n",
    "        args = np.argsort(ls)[:K]\n",
    "        words = [sentences[a] for a in args]\n",
    "        # Pretty print\n",
    "        print('query', \" \".join(s))\n",
    "        for j in range(K):\n",
    "            print(str(j), \" \".join(words[j]) )\n",
    "        return words\n",
    "\n",
    "    def score(self, s1, s2, idf=False, encoded = False):\n",
    "        # cosine similarity: use   np.dot  and  np.linalg.norm\n",
    "        if not encoded:\n",
    "            s1, s2 = self.encode([s1], idf)[0], self.encode([s2], idf)[0]\n",
    "        return np.dot(s1, s2) / (np.linalg.norm(s1)*np.linalg.norm(s2))\n",
    "    \n",
    "    def build_idf(self, sentences):\n",
    "        # build the idf dictionary: associate each word to its idf value\n",
    "        idf = {}\n",
    "        for sent in sentences:\n",
    "            for w in set(sent):\n",
    "                idf[w] = idf.get(w, 0) + 1\n",
    "        for word in idf.keys():\n",
    "            idf[word] = max(1, np.log10(len(sentences) / (idf[word])))\n",
    "        return idf"
   ]
  },
  {
   "cell_type": "code",
   "execution_count": 71,
   "metadata": {},
   "outputs": [
    {
     "name": "stdout",
     "output_type": "stream",
     "text": [
      "Loaded 5000 pretrained word vectors\n"
     ]
    },
    {
     "name": "stderr",
     "output_type": "stream",
     "text": [
      "/Users/eloise/anaconda3/lib/python3.7/site-packages/ipykernel_launcher.py:46: RuntimeWarning: invalid value encountered in double_scalars\n"
     ]
    },
    {
     "name": "stdout",
     "output_type": "stream",
     "text": [
      "query 1 smiling african american boy . \n",
      "\n",
      "0 1 smiling african american boy . \n",
      "\n",
      "1 blond boy waterskiing . \n",
      "\n",
      "2 a boy blowing bubbles . \n",
      "\n",
      "3 a boy surfs . \n",
      "\n",
      "4 a boy dunks a basketball . \n",
      "\n",
      "0.5926775053017799\n",
      "query 1 smiling african american boy . \n",
      "\n",
      "0 1 smiling african american boy . \n",
      "\n",
      "1 a man rides a 4 wheeler in the desert . \n",
      "\n",
      "2 5 women and 1 man are smiling for the camera . \n",
      "\n",
      "3 3 males and 1 woman enjoying a sporting event \n",
      "\n",
      "4 a man in black is juggling 3 flamed bottles . \n",
      "\n",
      "0.5354923843214625\n"
     ]
    }
   ],
   "source": [
    "w2v = Word2vec(os.path.join(PATH_TO_DATA, 'crawl-300d-2M.vec'), nmax=5000)\n",
    "s2v = BoV(w2v)\n",
    "\n",
    "# Load sentences in \"PATH_TO_DATA/sentences.txt\"\n",
    "sentences = []\n",
    "with io.open(PATH_TO_DATA+\"sentences.txt\", encoding='utf-8') as f:\n",
    "    for i, line in enumerate(f):\n",
    "        sentences.append(line.split(' '))\n",
    "        \n",
    "# Build idf scores for each word\n",
    "idf = s2v.build_idf(sentences)\n",
    "\n",
    "# You will be evaluated on the output of the following:\n",
    "s2v.most_similar('' if not sentences else sentences[10], sentences)  # BoV-mean\n",
    "print(s2v.score('' if not sentences else sentences[7], '' if not sentences else sentences[13]))\n",
    "\n",
    "s2v.most_similar('' if not sentences else sentences[10], sentences, idf)  # BoV-idf\n",
    "print(s2v.score('' if not sentences else sentences[7], '' if not sentences else sentences[13], idf))"
   ]
  },
  {
   "cell_type": "markdown",
   "metadata": {},
   "source": [
    "# 2) Multilingual (English-French) word embeddings"
   ]
  },
  {
   "cell_type": "markdown",
   "metadata": {},
   "source": [
    "Let's consider a bilingual dictionary of size V_a (e.g French-English).\n",
    "\n",
    "Let's define **X** and **Y** the **French** and **English** matrices.\n",
    "\n",
    "They contain the embeddings associated to the words in the bilingual dictionary.\n",
    "\n",
    "We want to find a **mapping W** that will project the source word space (e.g French) to the target word space (e.g English).\n",
    "\n",
    "Procrustes : **W\\* = argmin || W.X - Y ||  s.t  W^T.W = Id**\n",
    "has a closed form solution:\n",
    "**W = U.V^T  where  U.Sig.V^T = SVD(Y.X^T)**\n",
    "\n",
    "In what follows, you are asked to: "
   ]
  },
  {
   "cell_type": "code",
   "execution_count": 76,
   "metadata": {},
   "outputs": [],
   "source": [
    "# 1 - Download and load 50k first vectors of\n",
    "#     https://s3-us-west-1.amazonaws.com/fasttext-vectors/wiki.en.vec\n",
    "#     https://s3-us-west-1.amazonaws.com/fasttext-vectors/wiki.fr.vec\n",
    "\n",
    "def fill_dict(fname, nmax):\n",
    "    ldict = {}\n",
    "    with io.open(fname, encoding='utf-8') as f:\n",
    "        next(f)\n",
    "        for i, line in enumerate(f):\n",
    "            word, vec = line.split(' ', 1)\n",
    "            ldict[word] = np.fromstring(vec, sep=' ')\n",
    "            if i == (nmax - 1):\n",
    "                break\n",
    "    return ldict\n",
    "\n",
    "nmax = 50000\n",
    "french = fill_dict('./data/wiki.fr.vec', nmax)\n",
    "english = fill_dict('./data/wiki.en.vec', nmax)"
   ]
  },
  {
   "cell_type": "code",
   "execution_count": 77,
   "metadata": {},
   "outputs": [],
   "source": [
    "# 2 - Get words that appear in both vocabs (= identical character strings)\n",
    "#     Use it to create the matrix X and Y (of aligned embeddings for these words)\n",
    "\n",
    "X, Y = [], []\n",
    "\n",
    "for wk in english.keys():\n",
    "    if wk in french.keys():\n",
    "        X.append(french[wk])\n",
    "        Y.append(english[wk])\n",
    "        \n",
    "X = np.array(X).T\n",
    "Y = np.array(Y).T"
   ]
  },
  {
   "cell_type": "code",
   "execution_count": 78,
   "metadata": {},
   "outputs": [],
   "source": [
    "# 3 - Solve the Procrustes using the scipy package and: scipy.linalg.svd() and get the optimal W\n",
    "#     Now W*French_vector is in the same space as English_vector\n",
    "import scipy.linalg\n",
    "\n",
    "U, s, Vh = scipy.linalg.svd(Y.dot(X.T))\n",
    "W = U.dot(Vh)"
   ]
  },
  {
   "cell_type": "code",
   "execution_count": 79,
   "metadata": {},
   "outputs": [
    {
     "name": "stdout",
     "output_type": "stream",
     "text": [
      ">> french to english <<\n",
      "chat cat\n",
      "chapeau handkerchief\n",
      "pont bridge\n",
      "sourire amuse\n",
      "soleil sun\n",
      "surprise surprise\n",
      "tente persuade\n",
      "diplôme diploma\n",
      "\n",
      ">> english to french <<\n",
      "damp humide\n",
      "birthday anniversaire\n",
      "sick malades\n",
      "foul adverses\n",
      "silent muet\n",
      "sound sonore\n",
      "acre acres\n",
      "soil sols\n"
     ]
    }
   ],
   "source": [
    "# 4 - After alignment with W, give examples of English nearest neighbors of some French words (and vice versa)\n",
    "#     You will be evaluated on that part and the code above\n",
    "\n",
    "def sim(w1, w2):\n",
    "    return np.dot(w1, w2) / (np.linalg.norm(w1)*np.linalg.norm(w2))\n",
    "\n",
    "def find_eng_nn(fw, W):\n",
    "    aligned = W.dot(french[fw].reshape(-1, 1)).reshape((-1,))\n",
    "    ew = list(english.keys())\n",
    "    dists = [-1 * sim(aligned, english[e]) for e in ew]\n",
    "    ags = np.argsort(dists)\n",
    "    word = ew[ags[0]]\n",
    "    ew = []\n",
    "    return word\n",
    "\n",
    "def find_fr_nn(fw, W):\n",
    "    aligned = np.linalg.inv(W).dot(english[fw].reshape(-1, 1)).reshape((-1,))\n",
    "    ew = list(french.keys())\n",
    "    dists = [-1 * sim(aligned, french[e]) for e in ew]\n",
    "    ags = np.argsort(dists)\n",
    "    word = ew[ags[0]]\n",
    "    ew = []\n",
    "    return word\n",
    "    \n",
    "print('>> french to english <<')\n",
    "for fw in ('chat', 'chapeau', 'pont', 'sourire', 'soleil', 'surprise', 'tente', 'diplôme'):\n",
    "    print(fw, find_eng_nn(fw, W))\n",
    "print('')\n",
    "print('>> english to french <<')\n",
    "for fw in ('damp', 'birthday', 'sick', 'foul', 'silent', 'sound', 'acre', 'soil'):\n",
    "    print(fw, find_fr_nn(fw, W))"
   ]
  },
  {
   "cell_type": "markdown",
   "metadata": {},
   "source": [
    "If you want to dive deeper on this subject: https://github.com/facebookresearch/MUSE"
   ]
  },
  {
   "cell_type": "markdown",
   "metadata": {},
   "source": [
    "# 3) Sentence classification with BoV and scikit-learn"
   ]
  },
  {
   "cell_type": "code",
   "execution_count": 214,
   "metadata": {},
   "outputs": [],
   "source": [
    "# 1 - Load train/dev/test of Stanford Sentiment TreeBank (SST)\n",
    "#     (https://nlp.stanford.edu/~socherr/EMNLP2013_RNTN.pdf)\n",
    "\n",
    "def load_SST(fname, labels = True):\n",
    "    X, Y = [], []\n",
    "    if labels:\n",
    "        with io.open(fname, encoding='utf-8') as f:\n",
    "            for i, line in enumerate(f):\n",
    "                score, sent = line.split(' ', 1)\n",
    "                X.append(sent.split(' '))\n",
    "                Y.append(int(score))\n",
    "        Y = np.array(Y)\n",
    "        return X, Y\n",
    "    else:\n",
    "        with io.open(fname, encoding='utf-8') as f:\n",
    "            for i, line in enumerate(f):\n",
    "                X.append(line.split(' '))\n",
    "        return X\n",
    "    \n",
    "X_train, Y_train = load_SST('./data/SST/stsa.fine.train')\n",
    "X_dev, Y_dev = load_SST('./data/SST/stsa.fine.dev')\n",
    "X_test = load_SST('./data/SST/stsa.fine.test.X', labels = False)"
   ]
  },
  {
   "cell_type": "code",
   "execution_count": 215,
   "metadata": {},
   "outputs": [
    {
     "name": "stdout",
     "output_type": "stream",
     "text": [
      "Loaded 25000 pretrained word vectors\n"
     ]
    }
   ],
   "source": [
    "# 2 - Encode sentences with the BoV model above\n",
    "\n",
    "w2v = Word2vec(os.path.join(PATH_TO_DATA, 'crawl-300d-2M.vec'), nmax=25000)\n",
    "s2v = BoV(w2v)\n",
    "\n",
    "X_train_f = s2v.encode(X_train, idf=False)\n",
    "X_dev_f = s2v.encode(X_dev, idf=False)\n",
    "X_test_f = s2v.encode(X_test, idf=False)\n",
    "X_train_t = s2v.encode(X_train, idf=s2v.build_idf(X_train))\n",
    "X_dev_t = s2v.encode(X_dev, idf=s2v.build_idf(X_dev))\n",
    "X_test_t = s2v.encode(X_test, idf=s2v.build_idf(X_test))"
   ]
  },
  {
   "cell_type": "code",
   "execution_count": 218,
   "metadata": {},
   "outputs": [
    {
     "data": {
      "image/png": "[encoded data removed]",
      "text/plain": [
       "<Figure size 432x288 with 1 Axes>"
      ]
     },
     "metadata": {
      "needs_background": "light"
     },
     "output_type": "display_data"
    }
   ],
   "source": [
    "# 3 - Learn Logistic Regression on top of sentence embeddings using scikit-learn\n",
    "#     (consider tuning the L2 regularization on the dev set)\n",
    "\n",
    "from sklearn.linear_model import LogisticRegression\n",
    "import matplotlib.pyplot as plt\n",
    "%matplotlib inline\n",
    "\n",
    "C_list = [0.1, 1., 5., 7., 10.]\n",
    "train_f = []\n",
    "dev_f = []\n",
    "train_t = []\n",
    "dev_t = []\n",
    "for C in C_list:\n",
    "    model = LogisticRegression(penalty='l2', C=C, \n",
    "                               class_weight=None, random_state=None,\n",
    "                               max_iter=100, multi_class='multinomial', verbose=0,\n",
    "                               warm_start=False, n_jobs=None, solver = 'newton-cg')\n",
    "    model.fit(X_train_f, Y_train)\n",
    "    train_f.append(model.score(X_train_f, Y_train))\n",
    "    dev_f.append(model.score(X_dev_f, Y_dev))\n",
    "        \n",
    "    model = LogisticRegression(penalty='l2', C=C, \n",
    "                               class_weight=None, random_state=None,\n",
    "                               max_iter=100, multi_class='multinomial', verbose=0,\n",
    "                               warm_start=False, n_jobs=None, solver = 'newton-cg')\n",
    "    model.fit(X_train_t, Y_train)\n",
    "    train_t.append(model.score(X_train_t, Y_train))\n",
    "    dev_t.append(model.score(X_dev_t, Y_dev))\n",
    "\n",
    "C = C_list[np.argmax(dev_f)]\n",
    "model = LogisticRegression(penalty='l2', C=C, \n",
    "                               class_weight=None, random_state=None,\n",
    "                               max_iter=100, multi_class='multinomial', verbose=0,\n",
    "                               warm_start=False, n_jobs=None, solver = 'newton-cg')\n",
    "model.fit(X_train_f, Y_train)\n",
    "\n",
    "plt.figure()\n",
    "plt.plot(C_list, train_f)\n",
    "plt.plot(C_list, dev_f)\n",
    "plt.plot(C_list, train_t)\n",
    "plt.plot(C_list, dev_t)\n",
    "plt.legend(['train no idf', 'dev no idf', 'train idf', 'dev idf'])\n",
    "plt.show()"
   ]
  },
  {
   "cell_type": "code",
   "execution_count": 219,
   "metadata": {},
   "outputs": [
    {
     "name": "stdout",
     "output_type": "stream",
     "text": [
      "    2210 logreg_bov_y_test_sst.txt\r\n"
     ]
    }
   ],
   "source": [
    "# 4 - Produce 2210 predictions for the test set (in the same order). One line = one prediction (=0,1,2,3,4).\n",
    "#     Attach the output file \"logreg_bov_y_test_sst.txt\" to your deliverable.\n",
    "#     You will be evaluated on the results of the test set.\n",
    "\n",
    "Y_test = model.predict(X_test_f)\n",
    "\n",
    "outname = \"logreg_bov_y_test_sst.txt\"\n",
    "if os.path.exists(outname): \n",
    "    os.remove(outname)\n",
    "file = open(outname, \"w\")\n",
    "for y in Y_test:\n",
    "    file.write(str(y)+'\\n')\n",
    "file.close() \n",
    "\n",
    "! wc -l logreg_bov_y_test_sst.txt"
   ]
  },
  {
   "cell_type": "code",
   "execution_count": 220,
   "metadata": {},
   "outputs": [
    {
     "name": "stdout",
     "output_type": "stream",
     "text": [
      "0.47073970037453183\n",
      "0.39872842870118075\n",
      "0.46629213483146065\n",
      "0.40054495912806537\n",
      "    2210 svc_bov_y_test_sst.txt\n"
     ]
    }
   ],
   "source": [
    "# BONUS!\n",
    "# 5 - Try to improve performance with another classifier\n",
    "#     Attach the output file \"XXX_bov_y_test_sst.txt\" to your deliverable (where XXX = the name of the classifier)\n",
    "\n",
    "from sklearn.ensemble import RandomForestClassifier\n",
    "from sklearn.svm import LinearSVC, SVC\n",
    "from sklearn.multiclass import OneVsRestClassifier\n",
    "\n",
    "model_f = LinearSVC(C=1., penalty='l2', loss='squared_hinge')\n",
    "\n",
    "model_f.fit(X_train_f, Y_train)\n",
    "print(model_f.score(X_train_f, Y_train))\n",
    "print(model_f.score(X_dev_f, Y_dev))\n",
    "\n",
    "model_t = LinearSVC(C=1., penalty='l2', loss='squared_hinge')\n",
    "\n",
    "model_t.fit(X_train_t, Y_train)\n",
    "print(model_t.score(X_train_t, Y_train))\n",
    "print(model_t.score(X_dev_t, Y_dev))\n",
    "\n",
    "Y_test = model_t.predict(X_test_t)\n",
    "\n",
    "outname = \"svc_bov_y_test_sst.txt\"\n",
    "if os.path.exists(outname): \n",
    "    os.remove(outname)\n",
    "file = open(outname, \"w\")\n",
    "for y in Y_test:\n",
    "    file.write(str(y)+'\\n')\n",
    "file.close() \n",
    "\n",
    "! wc -l svc_bov_y_test_sst.txt"
   ]
  },
  {
   "cell_type": "markdown",
   "metadata": {},
   "source": [
    "# 4) Sentence classification with LSTMs in Keras"
   ]
  },
  {
   "cell_type": "markdown",
   "metadata": {},
   "source": [
    "## 4.1 - Preprocessing"
   ]
  },
  {
   "cell_type": "code",
   "execution_count": 5,
   "metadata": {},
   "outputs": [
    {
     "name": "stderr",
     "output_type": "stream",
     "text": [
      "Using TensorFlow backend.\n",
      "/Users/eloise/anaconda3/lib/python3.7/importlib/_bootstrap.py:219: RuntimeWarning: compiletime version 3.6 of module 'tensorflow.python.framework.fast_tensor_util' does not match runtime version 3.7\n",
      "  return f(*args, **kwds)\n"
     ]
    }
   ],
   "source": [
    "import keras"
   ]
  },
  {
   "cell_type": "code",
   "execution_count": 115,
   "metadata": {},
   "outputs": [],
   "source": [
    "# 1 - Load train/dev/test sets of SST\n",
    "PATH_TO_DATA = \"./data/SST\"\n",
    "\n",
    "def load_SST_to_string(fname, labels = True):\n",
    "    X, Y = [], []\n",
    "    if labels:\n",
    "        with io.open(fname, encoding='utf-8') as f:\n",
    "            for i, line in enumerate(f):\n",
    "                score, sent = line.split(' ', 1)\n",
    "                X.append(sent)\n",
    "                Y.append(int(score))\n",
    "        Y = np.array(Y)\n",
    "        return X, Y\n",
    "    else:\n",
    "        with io.open(fname, encoding='utf-8') as f:\n",
    "            for i, line in enumerate(f):\n",
    "                X.append(line)\n",
    "        return X\n",
    "\n",
    "X_train, Y_train = load_SST_to_string('./data/SST/stsa.fine.train')\n",
    "X_dev, Y_dev = load_SST_to_string('./data/SST/stsa.fine.dev')\n",
    "X_test = load_SST_to_string('./data/SST/stsa.fine.test.X', labels = False)"
   ]
  },
  {
   "cell_type": "code",
   "execution_count": 116,
   "metadata": {},
   "outputs": [],
   "source": [
    "# 2 - Transform text to integers using keras.preprocessing.text.one_hot function\n",
    "from keras.preprocessing.text import one_hot\n",
    "#     https://keras.io/preprocessing/text/\n",
    "\n",
    "def one_hot_process(X):\n",
    "    Xh = []\n",
    "    for x in X:\n",
    "        Xh.append(one_hot(x, 5000, filters='!\"#$%&()*+,-./:;<=>?@[\\]^_`{|}~', lower=True, split=' '))\n",
    "    return Xh\n",
    "\n",
    "X_train = one_hot_process(X_train)\n",
    "X_dev = one_hot_process(X_dev)\n",
    "X_test = one_hot_process(X_test)\n",
    "\n",
    "from sklearn.preprocessing import OneHotEncoder\n",
    "enc = OneHotEncoder()\n",
    "Y_train = enc.fit_transform(Y_train.reshape(-1, 1))\n",
    "Y_dev = enc.transform(Y_dev.reshape(-1, 1))"
   ]
  },
  {
   "cell_type": "markdown",
   "metadata": {},
   "source": [
    "**Padding input data**\n",
    "\n",
    "Models in Keras (and elsewhere) take batches of sentences of the same length as input. It is because Deep Learning framework have been designed to handle well Tensors, which are particularly suited for fast computation on the GPU.\n",
    "\n",
    "Since sentences have different sizes, we \"pad\" them. That is, we add dummy \"padding\" tokens so that they all have the same length.\n",
    "\n",
    "The input to a Keras model thus has this size : (batchsize, maxseqlen) where maxseqlen is the maximum length of a sentence in the batch."
   ]
  },
  {
   "cell_type": "code",
   "execution_count": 117,
   "metadata": {},
   "outputs": [],
   "source": [
    "# 3 - Pad your sequences using keras.preprocessing.sequence.pad_sequences\n",
    "from keras.preprocessing.sequence import pad_sequences\n",
    "#     https://keras.io/preprocessing/sequence/\n",
    "\n",
    "X_train = pad_sequences(X_train, maxlen=50, dtype='int32', padding='pre', truncating='pre', value=0.0)\n",
    "X_dev = pad_sequences(X_dev, maxlen=50, dtype='int32', padding='pre', truncating='pre', value=0.0)\n",
    "X_test = pad_sequences(X_test, maxlen=50, dtype='int32', padding='pre', truncating='pre', value=0.0)"
   ]
  },
  {
   "cell_type": "markdown",
   "metadata": {},
   "source": [
    "## 4.2 - Design and train your model"
   ]
  },
  {
   "cell_type": "code",
   "execution_count": 118,
   "metadata": {},
   "outputs": [],
   "source": [
    "# 4 - Design your encoder + classifier using keras.layers\n",
    "#     In Keras, Torch and other deep learning framework, we create a \"container\" which is the Sequential() module.\n",
    "#     Then we add components to this contained : the lookuptable, the LSTM, the classifier etc.\n",
    "#     All of these components are contained in the Sequential() and are trained together.\n",
    "\n",
    "# ADAPT CODE BELOW\n",
    "\n",
    "from keras.models import Sequential\n",
    "from keras.layers import Embedding, LSTM, Dense, Activation\n",
    "\n",
    "from keras import backend as K\n",
    "K.set_learning_phase(1)\n",
    "\n",
    "embed_dim  = 32 # 32  # word embedding dimension\n",
    "nhid       = 64 # 64 # number of hidden units in the LSTM\n",
    "vocab_size = 5000 # 1000  # size of the vocabulary\n",
    "n_classes  = 5\n",
    "\n",
    "model = Sequential()\n",
    "model.add(Embedding(vocab_size, embed_dim))\n",
    "model.add(LSTM(nhid, dropout=0.3, recurrent_dropout=0.3)) #0.2 0.2\n",
    "model.add(Dense(n_classes, activation='sigmoid'))\n"
   ]
  },
  {
   "cell_type": "code",
   "execution_count": 119,
   "metadata": {},
   "outputs": [
    {
     "name": "stdout",
     "output_type": "stream",
     "text": [
      "_________________________________________________________________\n",
      "Layer (type)                 Output Shape              Param #   \n",
      "=================================================================\n",
      "embedding_21 (Embedding)     (None, None, 32)          160000    \n",
      "_________________________________________________________________\n",
      "lstm_20 (LSTM)               (None, 64)                24832     \n",
      "_________________________________________________________________\n",
      "dense_20 (Dense)             (None, 5)                 325       \n",
      "=================================================================\n",
      "Total params: 185,157\n",
      "Trainable params: 185,157\n",
      "Non-trainable params: 0\n",
      "_________________________________________________________________\n",
      "None\n"
     ]
    }
   ],
   "source": [
    "# 5 - Define your loss/optimizer/metrics\n",
    "\n",
    "# MODIFY CODE BELOW\n",
    "\n",
    "loss_classif     =  'categorical_crossentropy' # find the right loss for multi-class classification\n",
    "optimizer        =  'adam' # find the right optimizer\n",
    "metrics_classif  =  ['accuracy']\n",
    "\n",
    "# Observe how easy (but blackboxed) this is in Keras\n",
    "model.compile(loss=loss_classif,\n",
    "              optimizer=optimizer,\n",
    "              metrics=metrics_classif)\n",
    "print(model.summary())"
   ]
  },
  {
   "cell_type": "code",
   "execution_count": 120,
   "metadata": {},
   "outputs": [
    {
     "name": "stdout",
     "output_type": "stream",
     "text": [
      "Train on 8544 samples, validate on 1101 samples\n",
      "Epoch 1/4\n",
      "8544/8544 [==============================] - 15s 2ms/step - loss: 1.5747 - acc: 0.2720 - val_loss: 1.5697 - val_acc: 0.2534\n",
      "Epoch 2/4\n",
      "8544/8544 [==============================] - 10s 1ms/step - loss: 1.5372 - acc: 0.3006 - val_loss: 1.4933 - val_acc: 0.3379\n",
      "Epoch 3/4\n",
      "8544/8544 [==============================] - 10s 1ms/step - loss: 1.3878 - acc: 0.3820 - val_loss: 1.4260 - val_acc: 0.3606\n",
      "Epoch 4/4\n",
      "8544/8544 [==============================] - 10s 1ms/step - loss: 1.2426 - acc: 0.4247 - val_loss: 1.4442 - val_acc: 0.3697\n"
     ]
    }
   ],
   "source": [
    "# 6 - Train your model and find the best hyperparameters for your dev set\n",
    "#     you will be evaluated on the quality of your predictions on the test set\n",
    "\n",
    "# ADAPT CODE BELOW\n",
    "bs = 64\n",
    "n_epochs = 4 #6\n",
    "\n",
    "history = model.fit(X_train, Y_train, batch_size=bs, epochs=n_epochs, validation_data=(X_dev, Y_dev))\n",
    "\n",
    "## ADD Tensorboard logs"
   ]
  },
  {
   "cell_type": "code",
   "execution_count": 121,
   "metadata": {},
   "outputs": [
    {
     "name": "stdout",
     "output_type": "stream",
     "text": [
      "    2210 logreg_lstm_y_test_sst.txt\r\n"
     ]
    }
   ],
   "source": [
    "# 7 - Generate your predictions on the test set using model.predict(x_test)\n",
    "#     https://keras.io/models/model/\n",
    "#     Log your predictions in a file (one line = one integer: 0,1,2,3,4)\n",
    "#     Attach the output file \"logreg_lstm_y_test_sst.txt\" to your deliverable.\n",
    "\n",
    "Y_test = model.predict(X_test)\n",
    "Y_test = np.argmax(Y_test, axis = 1)\n",
    "\n",
    "outname = \"logreg_lstm_y_test_sst.txt\"\n",
    "if os.path.exists(outname): \n",
    "    os.remove(outname)\n",
    "file = open(outname, \"w\")\n",
    "for y in Y_test:\n",
    "    file.write(str(y)+'\\n')\n",
    "file.close() \n",
    "\n",
    "! wc -l logreg_lstm_y_test_sst.txt"
   ]
  },
  {
   "cell_type": "markdown",
   "metadata": {},
   "source": [
    "## 4.3 -- innovate !"
   ]
  },
  {
   "cell_type": "code",
   "execution_count": 206,
   "metadata": {},
   "outputs": [],
   "source": [
    "# 8 - Open question: find a model that is better on your dev set\n",
    "#     (e.g: use a 1D ConvNet, use a better classifier, pretrain your lookup tables ..)\n",
    "#     you will get point if the results on the test set are better: be careful of not overfitting your dev set too much..\n",
    "#     Attach the output file \"XXX_XXX_y_test_sst.txt\" to your deliverable.\n",
    "\n",
    "from keras.layers import Conv1D, MaxPooling1D, Flatten, Dropout\n",
    "\n",
    "model = Sequential()\n",
    "model.add(Embedding(5000, 32, input_length=50))\n",
    "model.add(Conv1D(filters=32, kernel_size=3, padding='same', activation='relu'))\n",
    "model.add(MaxPooling1D(pool_size=2))\n",
    "model.add(Flatten())\n",
    "model.add(Dense(250, activation='relu'))\n",
    "#model.add(Dropout(0.3))\n",
    "model.add(Dense(5, activation='softmax'))\n"
   ]
  },
  {
   "cell_type": "code",
   "execution_count": 207,
   "metadata": {},
   "outputs": [
    {
     "name": "stdout",
     "output_type": "stream",
     "text": [
      "_________________________________________________________________\n",
      "Layer (type)                 Output Shape              Param #   \n",
      "=================================================================\n",
      "embedding_50 (Embedding)     (None, 50, 32)            160000    \n",
      "_________________________________________________________________\n",
      "conv1d_30 (Conv1D)           (None, 50, 32)            3104      \n",
      "_________________________________________________________________\n",
      "max_pooling1d_29 (MaxPooling (None, 25, 32)            0         \n",
      "_________________________________________________________________\n",
      "flatten_30 (Flatten)         (None, 800)               0         \n",
      "_________________________________________________________________\n",
      "dense_76 (Dense)             (None, 250)               200250    \n",
      "_________________________________________________________________\n",
      "dense_77 (Dense)             (None, 5)                 1255      \n",
      "=================================================================\n",
      "Total params: 364,609\n",
      "Trainable params: 364,609\n",
      "Non-trainable params: 0\n",
      "_________________________________________________________________\n",
      "None\n"
     ]
    }
   ],
   "source": [
    "loss_classif     =  'categorical_crossentropy'\n",
    "optimizer        =  'adam'\n",
    "metrics_classif  =  ['accuracy']\n",
    "\n",
    "model.compile(loss=loss_classif,\n",
    "              optimizer=optimizer,\n",
    "              metrics=metrics_classif)\n",
    "print(model.summary())"
   ]
  },
  {
   "cell_type": "code",
   "execution_count": 208,
   "metadata": {},
   "outputs": [
    {
     "name": "stdout",
     "output_type": "stream",
     "text": [
      "Train on 8544 samples, validate on 1101 samples\n",
      "Epoch 1/2\n",
      "8544/8544 [==============================] - 7s 821us/step - loss: 1.5700 - acc: 0.2735 - val_loss: 1.5672 - val_acc: 0.2752\n",
      "Epoch 2/2\n",
      "8544/8544 [==============================] - 2s 213us/step - loss: 1.4358 - acc: 0.3904 - val_loss: 1.4135 - val_acc: 0.3942\n"
     ]
    }
   ],
   "source": [
    "bs = 64\n",
    "n_epochs = 2\n",
    "\n",
    "history = model.fit(X_train, Y_train, batch_size=bs, epochs=n_epochs, validation_data=(X_dev, Y_dev))"
   ]
  },
  {
   "cell_type": "code",
   "execution_count": 209,
   "metadata": {},
   "outputs": [
    {
     "name": "stdout",
     "output_type": "stream",
     "text": [
      "    2210 logreg_conv1d_y_test_sst.txt\r\n"
     ]
    }
   ],
   "source": [
    "Y_test = model.predict(X_test)\n",
    "Y_test = np.argmax(Y_test, axis = 1)\n",
    "\n",
    "outname = \"logreg_conv1d_y_test_sst.txt\"\n",
    "if os.path.exists(outname): \n",
    "    os.remove(outname)\n",
    "file = open(outname, \"w\")\n",
    "for y in Y_test:\n",
    "    file.write(str(y)+'\\n')\n",
    "file.close() \n",
    "\n",
    "! wc -l logreg_conv1d_y_test_sst.txt"
   ]
  }
 ],
 "metadata": {
  "kernelspec": {
   "display_name": "Python 3",
   "language": "python",
   "name": "python3"
  },
  "language_info": {
   "codemirror_mode": {
    "name": "ipython",
    "version": 3
   },
   "file_extension": ".py",
   "mimetype": "text/x-python",
   "name": "python",
   "nbconvert_exporter": "python",
   "pygments_lexer": "ipython3",
   "version": "3.7.0"
  }
 },
 "nbformat": 4,
 "nbformat_minor": 1
}
